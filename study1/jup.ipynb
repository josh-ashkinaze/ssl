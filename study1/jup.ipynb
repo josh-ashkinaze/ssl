{
 "cells": [
  {
   "cell_type": "markdown",
   "source": [
    "# read in files"
   ],
   "metadata": {
    "collapsed": false
   },
   "id": "a79e76aea5289e07"
  },
  {
   "cell_type": "code",
   "outputs": [],
   "source": [
    "import pandas as pd \n",
    "import json \n",
    "from src.helpers import text2list\n",
    "\n",
    "from collections import Counter\n",
    "\n",
    "\n",
    "arxiv_fn = \"../data/clean/arxiv_2018-01-01_2025-05-20_cs__.jsonl\"\n",
    "nyt_fn = \"../data/clean/nyt_2018-01-01_2025-05-20.jsonl\"\n",
    "\n",
    "\n",
    "\n",
    "ai_terms = \"../data/raw/raw_ai_terms.json\"\n",
    "with open(ai_terms, 'r') as f:\n",
    "    ai_terms = json.load(f)\n",
    "all_terms = list(ai_terms.values())\n",
    "all_terms = [item for sublist in all_terms for item in sublist]\n",
    "all_terms = [x.lower() for x in all_terms if isinstance(x, str)]\n",
    "all_terms = list(set(all_terms))\n",
    "\n",
    "atus_roles = text2list(\"../data/clean/atus_roles.txt\")\n",
    "onet_roles = text2list(\"../data/clean/onet_roles.txt\")\n",
    "roles = atus_roles + onet_roles\n",
    "\n",
    "arxiv_df = pd.read_json(arxiv_fn, lines=True)\n",
    "arxiv_df['text'] = arxiv_df['title'] + \" \" + arxiv_df['abstract'] \n",
    "\n",
    "nyt_df = pd.read_json(nyt_fn, lines=True)\n",
    "nyt_df['text'] = nyt_df['headline'] + \" \" + nyt_df['abstract'] + \" \" + nyt_df['snippet']\n"
   ],
   "metadata": {
    "collapsed": false,
    "ExecuteTime": {
     "end_time": "2025-05-27T01:47:22.931313Z",
     "start_time": "2025-05-27T01:46:53.120471Z"
    }
   },
   "id": "f09b2701416e0096",
   "execution_count": 5
  },
  {
   "cell_type": "markdown",
   "source": [
    "# Count words"
   ],
   "metadata": {
    "collapsed": false
   },
   "id": "786c64d11f3669d7"
  },
  {
   "cell_type": "code",
   "outputs": [
    {
     "name": "stdout",
     "output_type": "stream",
     "text": [
      "--- Processing ArXiv DataFrame (Simplified) ---\n",
      "Calculating 'ai_terms_count' using column 'text'...\n"
     ]
    }
   ],
   "source": [
    "import re\n",
    "import pandas as pd\n",
    "# from tqdm import tqdm # Optional: for progress bar with pandas apply\n",
    "\n",
    "# Optional: Initialize tqdm for pandas apply (call once)\n",
    "# tqdm.pandas(desc=\"Processing Series\")\n",
    "\n",
    "def make_combined_regex(terms_or_phrases_list):\n",
    "    \"\"\"\n",
    "    Creates a compiled regex to find any of the terms/phrases in a list.\n",
    "    The regex will perform a case-insensitive match for whole words/phrases.\n",
    "    \"\"\"\n",
    "    if not terms_or_phrases_list:\n",
    "        return None\n",
    "    \n",
    "    # Filter out any None or empty string terms before joining\n",
    "    valid_terms = [str(term).lower() for term in terms_or_phrases_list if term and str(term).strip()]\n",
    "    if not valid_terms:\n",
    "        return None\n",
    "\n",
    "    pattern_str = r'\\b(?:' + '|'.join(re.escape(term) for term in valid_terms) + r')\\b'\n",
    "    \n",
    "    if pattern_str == r'\\b(?:)\\b':\n",
    "        return None\n",
    "        \n",
    "    try:\n",
    "        return re.compile(pattern_str, re.IGNORECASE)\n",
    "    except re.error as e:\n",
    "        print(f\"Error compiling regex with pattern '{pattern_str}': {e}\")\n",
    "        return None\n",
    "\n",
    "def count_matches_with_compiled_regex(text, compiled_regex):\n",
    "    \"\"\"\n",
    "    Counts non-overlapping occurrences of matches for a pre-compiled regex in a text.\n",
    "    \"\"\"\n",
    "    if pd.isna(text) or compiled_regex is None:\n",
    "        return 0\n",
    "    text_str = str(text) # Ensure text is a string\n",
    "    matches = compiled_regex.findall(text_str)\n",
    "    return len(matches)\n",
    "\n",
    "def add_ai_and_role_counts_optimized(df, all_ai_terms_list, roles_list, text_col='text'):\n",
    "    \"\"\"\n",
    "    Adds 'ai_terms_count' and 'roles_count' columns to the DataFrame\n",
    "    using optimized regex matching.\n",
    "\n",
    "    Args:\n",
    "        df (pd.DataFrame): The input DataFrame.\n",
    "        all_ai_terms_list (list): A list of AI-related terms/phrases.\n",
    "        roles_list (list): A list of role-related terms/phrases.\n",
    "        text_col (str): The name of the column in `df` containing the text.\n",
    "\n",
    "    Returns:\n",
    "        pd.DataFrame: The DataFrame with added 'ai_terms_count' and 'roles_count'.\n",
    "    \"\"\"\n",
    "    if text_col not in df.columns:\n",
    "        print(f\"Error: Text column '{text_col}' not found in DataFrame. Returning original DataFrame.\")\n",
    "        return df\n",
    "\n",
    "    # Compile regex for AI terms\n",
    "    ai_regex = make_combined_regex(all_ai_terms_list)\n",
    "    if ai_regex:\n",
    "        print(f\"Calculating 'ai_terms_count' using column '{text_col}'...\")\n",
    "        df['ai_terms_count'] = df[text_col].apply(\n",
    "            lambda text_to_search: count_matches_with_compiled_regex(text_to_search, ai_regex)\n",
    "        )\n",
    "    else:\n",
    "        print(\"Warning: Could not compile regex for AI terms or list was empty. 'ai_terms_count' will be 0.\")\n",
    "        df['ai_terms_count'] = 0\n",
    "\n",
    "    # Compile regex for roles\n",
    "    roles_regex = make_combined_regex(roles_list)\n",
    "    if roles_regex:\n",
    "        print(f\"Calculating 'roles_count' using column '{text_col}'...\")\n",
    "        df['roles_count'] = df[text_col].apply(\n",
    "            lambda text_to_search: count_matches_with_compiled_regex(text_to_search, roles_regex)\n",
    "        )\n",
    "    else:\n",
    "        print(\"Warning: Could not compile regex for roles or list was empty. 'roles_count' will be 0.\")\n",
    "        df['roles_count'] = 0\n",
    "    \n",
    "    return df\n",
    "\n",
    "if __name__ == '__main__':\n",
    "    # --- Example Usage ---\n",
    "\n",
    "\n",
    "    print(\"--- Processing ArXiv DataFrame (Simplified) ---\")\n",
    "    arxiv_df_updated = add_ai_and_role_counts_optimized(arxiv_df.copy(), \n",
    "                                                      all_ai_terms_list=all_terms,\n",
    "                                                      roles_list=roles,\n",
    "                                                      text_col='text')\n",
    "    print(\"\\nArXiv DataFrame with counts:\")\n",
    "    print(arxiv_df_updated[['text', 'ai_terms_count', 'roles_count']])\n",
    "\n",
    "    print(\"\\n--- Processing NYT DataFrame (Simplified) ---\")\n",
    "    nyt_df_updated = add_ai_and_role_counts_optimized(nyt_df.copy(),\n",
    "                                                    all_ai_terms_list=all_terms,\n",
    "                                                    roles_list=roles,\n",
    "                                                    text_col='text')\n",
    "    print(\"\\nNYT DataFrame with counts:\")\n",
    "    print(nyt_df_updated[['text', 'ai_terms_count', 'roles_count']])\n",
    "\n",
    "    # Quick stats\n",
    "    print(\"\\n--- Quick Stats (Simplified) ---\")\n",
    "    print(\"ArXiv AI terms sum:\", arxiv_df_updated['ai_terms_count'].sum())\n",
    "    print(\"ArXiv roles sum:\", arxiv_df_updated['roles_count'].sum()) \n",
    "    print(\"NYT AI terms sum:\", nyt_df_updated['ai_terms_count'].sum())\n",
    "    print(\"NYT roles sum:\", nyt_df_updated['roles_count'].sum())\n"
   ],
   "metadata": {
    "collapsed": false,
    "is_executing": true,
    "ExecuteTime": {
     "start_time": "2025-05-27T01:47:22.941030Z"
    }
   },
   "id": "fe9fe44d1d24a6e0",
   "execution_count": null
  },
  {
   "cell_type": "code",
   "outputs": [],
   "source": [],
   "metadata": {
    "collapsed": false
   },
   "id": "8558ad33cdff4147"
  }
 ],
 "metadata": {
  "kernelspec": {
   "display_name": "Python 3",
   "language": "python",
   "name": "python3"
  },
  "language_info": {
   "codemirror_mode": {
    "name": "ipython",
    "version": 2
   },
   "file_extension": ".py",
   "mimetype": "text/x-python",
   "name": "python",
   "nbconvert_exporter": "python",
   "pygments_lexer": "ipython2",
   "version": "2.7.6"
  }
 },
 "nbformat": 4,
 "nbformat_minor": 5
}
