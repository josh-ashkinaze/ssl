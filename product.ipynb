{
 "cells": [
  {
   "cell_type": "code",
   "execution_count": 2,
   "id": "initial_id",
   "metadata": {
    "ExecuteTime": {
     "end_time": "2025-05-25T10:38:06.606623Z",
     "start_time": "2025-05-25T10:37:54.606270Z"
    }
   },
   "outputs": [],
   "source": [
    "import json \n",
    "import pandas as pd\n",
    "with open('producthunt_posts_2019-01-01_to_2025-01-01.json') as f:\n",
    "    data = json.load(f)\n",
    "    \n",
    "\n",
    "df = pd.DataFrame(data['posts'])"
   ]
  },
  {
   "cell_type": "markdown",
   "id": "53dd4bf9995452b0",
   "metadata": {
    "collapsed": false
   },
   "source": [
    "# Read in data"
   ]
  },
  {
   "cell_type": "code",
   "execution_count": 3,
   "id": "81fcd7c8e156032b",
   "metadata": {
    "collapsed": false,
    "ExecuteTime": {
     "end_time": "2025-05-25T10:38:09.678896Z",
     "start_time": "2025-05-25T10:38:09.648256Z"
    }
   },
   "outputs": [
    {
     "name": "stdout",
     "output_type": "stream",
     "text": [
      "['conversation', 'feedback', 'support', 'guidance', 'mentorship', 'collaboration', 'interaction', 'communication', 'advice', 'trust', 'empathy', 'connection', 'networking', 'relationship', 'understanding', 'conflict', 'negotiation', 'bonding', 'listening', 'sharing']\n"
     ]
    }
   ],
   "source": [
    "with open(\"data/clean/atus_roles.txt\") as f:\n",
    "    atus_roles = f.read().splitlines()\n",
    "    \n",
    "with open(\"data/clean/onet_roles.txt\") as f:\n",
    "    onet_roles = f.read().splitlines()\n",
    "    \n",
    "nouns = pd.read_json(\"data/clean/common_nouns.json\")['nouns'].to_list()\n",
    "print(nouns)\n",
    "    \n",
    "social_words = atus_roles + onet_roles + nouns"
   ]
  },
  {
   "cell_type": "code",
   "execution_count": 1,
   "id": "3c32b40f-5128-4709-8a6a-ea10208b6d27",
   "metadata": {
    "ExecuteTime": {
     "end_time": "2025-05-26T17:16:25.445585Z",
     "start_time": "2025-05-26T17:16:25.173510Z"
    }
   },
   "outputs": [
    {
     "ename": "NameError",
     "evalue": "name 'df' is not defined",
     "output_type": "error",
     "traceback": [
      "\u001B[31m---------------------------------------------------------------------------\u001B[39m",
      "\u001B[31mNameError\u001B[39m                                 Traceback (most recent call last)",
      "\u001B[36mCell\u001B[39m\u001B[36m \u001B[39m\u001B[32mIn[1]\u001B[39m\u001B[32m, line 1\u001B[39m\n\u001B[32m----> \u001B[39m\u001B[32m1\u001B[39m \u001B[38;5;28mprint\u001B[39m(\u001B[43mdf\u001B[49m.columns)\n\u001B[32m      2\u001B[39m \u001B[38;5;66;03m# Index(['id', 'name', 'slug', 'tagline', 'description', 'url', 'website',\u001B[39;00m\n\u001B[32m      3\u001B[39m \u001B[38;5;66;03m#        'votesCount', 'commentsCount', 'createdAt', 'featuredAt'],\u001B[39;00m\n\u001B[32m      4\u001B[39m \u001B[38;5;66;03m#       dtype='object')\u001B[39;00m\n\u001B[32m      6\u001B[39m \u001B[38;5;28;01mimport\u001B[39;00m\u001B[38;5;250m \u001B[39m\u001B[34;01mre\u001B[39;00m\n",
      "\u001B[31mNameError\u001B[39m: name 'df' is not defined"
     ]
    }
   ],
   "source": [
    "print(df.columns)\n",
    "# Index(['id', 'name', 'slug', 'tagline', 'description', 'url', 'website',\n",
    "#        'votesCount', 'commentsCount', 'createdAt', 'featuredAt'],\n",
    "#       dtype='object')\n",
    "\n",
    "import re\n",
    "def string_contains_word(s, word_list):\n",
    "    \"\"\"\n",
    "    Regex-based version with word boundaries for more precise matching.\n",
    "    Slightly slower but handles edge cases better.\n",
    "    \"\"\"\n",
    "    # Sort by length (longest first) to match longer phrases before shorter ones\n",
    "    sorted_terms = sorted(word_list, key=len, reverse=True)\n",
    "    \n",
    "    # Escape special regex characters and create pattern\n",
    "    escaped_terms = [re.escape(term) for term in sorted_terms]\n",
    "    pattern = r'\\b(' + '|'.join(escaped_terms) + r')\\b'\n",
    "    \n",
    "    return bool(re.search(pattern, s, re.IGNORECASE))  \n",
    "    \n",
    "ai_terms = [\"artificial intelligence\", \"large language model\", \"llm\", \"chatbot\", \"gpt\", \"a.i.\", \"ai-powered\", \"chatgpt\", \"agent\", \"agentic\", \"generative ai\", \"ai assistant\", \"virtual assistant\", \"dialogue system\", \"voice assistant\", \"bot\", \"foundation model\"]\n",
    "\n",
    "social_words = atus_roles + onet_roles \n",
    "\n",
    "social_words = social_words.copy()\n",
    "df['text'] = df['name'] + df[\"tagline\"] + df[\"description\"]\n",
    "df = df.dropna(subset=['text'])\n",
    "df['text'] = df['text'].apply(lambda x: x.lower())\n",
    "\n",
    "df['ai'] = df['text'].apply(lambda x: string_contains_word(x, ai_terms))\n",
    "df['social'] = df['text'].apply(lambda x: string_contains_word(x, social_words))\n",
    "\n"
   ]
  },
  {
   "cell_type": "markdown",
   "id": "8d8b942fc99d5baa",
   "metadata": {
    "collapsed": false
   },
   "source": [
    "# Filter dataframe and create col"
   ]
  },
  {
   "cell_type": "code",
   "execution_count": 41,
   "id": "5b933f93-161d-4c30-a545-9c23811ecfba",
   "metadata": {
    "ExecuteTime": {
     "end_time": "2025-05-25T10:55:45.956991Z",
     "start_time": "2025-05-25T10:55:45.902094Z"
    }
   },
   "outputs": [],
   "source": [
    "df = df.query(\"ai == True\")\n",
    "df['y'] = df['social'].astype(int)\n",
    "df['dt'] = pd.to_datetime(df['createdAt'])\n",
    "df = df.loc[df['dt'] < '2025-01-01']"
   ]
  },
  {
   "cell_type": "code",
   "execution_count": 42,
   "id": "76a2d0d9-7ce7-44c2-97e2-e0da13a2f32a",
   "metadata": {
    "ExecuteTime": {
     "end_time": "2025-05-25T10:55:46.591090Z",
     "start_time": "2025-05-25T10:55:46.578683Z"
    }
   },
   "outputs": [
    {
     "data": {
      "text/plain": "0.0243285051328927"
     },
     "execution_count": 42,
     "metadata": {},
     "output_type": "execute_result"
    }
   ],
   "source": [
    "df['y'].mean()"
   ]
  },
  {
   "cell_type": "markdown",
   "id": "a8ae2bb6ca522c2b",
   "metadata": {
    "collapsed": false
   },
   "source": [
    "# ML"
   ]
  },
  {
   "cell_type": "code",
   "execution_count": 43,
   "id": "94651465a2cede42",
   "metadata": {
    "collapsed": false,
    "ExecuteTime": {
     "end_time": "2025-05-25T10:56:13.706563Z",
     "start_time": "2025-05-25T10:55:48.557037Z"
    }
   },
   "outputs": [
    {
     "name": "stdout",
     "output_type": "stream",
     "text": [
      "Best Parameters: {'model__C': 1, 'tfidf__ngram_range': (1, 1)}\n",
      "Classification Report:\n",
      "              precision    recall  f1-score   support\n",
      "\n",
      "           0       0.99      1.00      1.00      1395\n",
      "           1       1.00      0.64      0.78        28\n",
      "\n",
      "    accuracy                           0.99      1423\n",
      "   macro avg       1.00      0.82      0.89      1423\n",
      "weighted avg       0.99      0.99      0.99      1423\n",
      "Predictions: [0 1]\n",
      "Top Positive Words: ['friend' 'coach' 'manager' 'employee' 'girlfriend' 'child' 'boss'\n",
      " 'advisor' 'therapist' 'parents']\n",
      "Top Negative Words: ['chatgpt' 'gpt' 'platform' 'text' 'llm' 'power' 'chatbots' 'language'\n",
      " 'content' 'need']\n"
     ]
    }
   ],
   "source": [
    "from sklearn.pipeline import Pipeline\n",
    "from sklearn.feature_extraction.text import TfidfVectorizer\n",
    "from sklearn.linear_model import LogisticRegression\n",
    "from sklearn.model_selection import train_test_split, GridSearchCV\n",
    "from sklearn.metrics import classification_report\n",
    "import joblib\n",
    "import numpy as np\n",
    "\n",
    "# Define the pipeline\n",
    "pipeline = Pipeline([\n",
    "    ('tfidf', TfidfVectorizer(stop_words='english')),\n",
    "    ('model', LogisticRegression(random_state=42, class_weight='balanced'))\n",
    "])\n",
    "\n",
    "# Train-test split\n",
    "X_train, X_test, y_train, y_test = train_test_split(df['text'], df['y'], test_size=0.2, random_state=42)\n",
    "\n",
    "# Perform GridSearchCV\n",
    "param_grid = {\n",
    "    'tfidf__ngram_range': [(1, 1), (1, 2)],  # Unigrams and bigrams\n",
    "    'model__C': [0.01, 0.1, 1, 10]          # Regularization strength\n",
    "}\n",
    "grid_search = GridSearchCV(pipeline, param_grid, cv=5, scoring='f1', n_jobs=-1)\n",
    "grid_search.fit(X_train, y_train)\n",
    "\n",
    "# Best parameters and model\n",
    "print(\"Best Parameters:\", grid_search.best_params_)\n",
    "best_pipeline = grid_search.best_estimator_\n",
    "\n",
    "# Evaluate the best pipeline\n",
    "y_pred = best_pipeline.predict(X_test)\n",
    "print(\"Classification Report:\")\n",
    "print(classification_report(y_test, y_pred))\n",
    "\n",
    "joblib.dump(best_pipeline, 'text_classification_pipeline.pkl')\n",
    "\n",
    "loaded_pipeline = joblib.load('text_classification_pipeline.pkl')\n",
    "\n",
    "# Predict on new data\n",
    "new_texts = [\n",
    "    \"AI-powered chatbot for customer support.\",\n",
    "    \"A mental health coach to help you achieve your goals.\"\n",
    "]\n",
    "predictions = loaded_pipeline.predict(new_texts)\n",
    "print(\"Predictions:\", predictions)\n",
    "\n",
    "vectorizer = loaded_pipeline.named_steps['tfidf']\n",
    "model = loaded_pipeline.named_steps['model']\n",
    "feature_names = np.array(vectorizer.get_feature_names_out())\n",
    "coefficients = model.coef_.flatten()\n",
    "\n",
    "# Get top 10 positive and negative words\n",
    "top_positive_indices = coefficients.argsort()[-10:][::-1]\n",
    "top_negative_indices = coefficients.argsort()[:10]\n",
    "\n",
    "print(\"Top Positive Words:\", feature_names[top_positive_indices])\n",
    "print(\"Top Negative Words:\", feature_names[top_negative_indices])"
   ]
  },
  {
   "cell_type": "code",
   "execution_count": 44,
   "id": "e2170b2e77f1d5a9",
   "metadata": {
    "collapsed": false,
    "ExecuteTime": {
     "end_time": "2025-05-25T10:56:17.092981Z",
     "start_time": "2025-05-25T10:56:17.082553Z"
    }
   },
   "outputs": [
    {
     "name": "stdout",
     "output_type": "stream",
     "text": [
      "Predictions: [0 1]\n"
     ]
    }
   ],
   "source": [
    "new_texts = [\n",
    "    \"AI calculcator\",\n",
    "    \"A mental health coach to help you achieve your goals.\"\n",
    "]\n",
    "predictions = loaded_pipeline.predict(new_texts)\n",
    "print(\"Predictions:\", predictions)"
   ]
  },
  {
   "cell_type": "code",
   "execution_count": 45,
   "id": "e342bf2f22d1729b",
   "metadata": {
    "collapsed": false,
    "ExecuteTime": {
     "end_time": "2025-05-25T10:56:20.708445Z",
     "start_time": "2025-05-25T10:56:20.137136Z"
    }
   },
   "outputs": [],
   "source": [
    "df['yhat'] = loaded_pipeline.predict(df['text'].to_list())\n"
   ]
  },
  {
   "cell_type": "code",
   "execution_count": 46,
   "id": "44440a43bec62578",
   "metadata": {
    "collapsed": false,
    "ExecuteTime": {
     "end_time": "2025-05-25T10:56:21.708525Z",
     "start_time": "2025-05-25T10:56:21.699878Z"
    }
   },
   "outputs": [],
   "source": [
    "df['agreed'] = (df['y'] == df['yhat'])*1"
   ]
  },
  {
   "cell_type": "code",
   "execution_count": 47,
   "id": "cf6afe235351fe55",
   "metadata": {
    "collapsed": false,
    "ExecuteTime": {
     "end_time": "2025-05-25T10:56:22.223611Z",
     "start_time": "2025-05-25T10:56:22.215940Z"
    }
   },
   "outputs": [
    {
     "data": {
      "text/plain": "0.9985937280270004"
     },
     "execution_count": 47,
     "metadata": {},
     "output_type": "execute_result"
    }
   ],
   "source": [
    "df['agreed'].mean()"
   ]
  },
  {
   "cell_type": "code",
   "execution_count": 48,
   "id": "e0a97ba83d629e43",
   "metadata": {
    "collapsed": false,
    "ExecuteTime": {
     "end_time": "2025-05-25T10:56:23.576575Z",
     "start_time": "2025-05-25T10:56:23.529409Z"
    }
   },
   "outputs": [
    {
     "data": {
      "text/plain": "            id                                       name  \\\n311     142396                                   TuSimple   \n382     142474  Premier Badminton League Official Chatbot   \n912     143032                             DeLaatBusiness   \n945     143106                                    Boredaf   \n1231    143366                                Sava Events   \n...        ...                                        ...   \n210746  744294                                 CompareLLM   \n210814  744634                                  RadostLLM   \n210823  740924                     Chat GPT Prompt Master   \n210827  744634                                  RadostLLM   \n210847  744736                       【Free】humanizeaiwork   \n\n                                             slug  \\\n311                                      tusimple   \n382     premier-badminton-league-official-chatbot   \n912                                delaatbusiness   \n945                                     boredaf-2   \n1231                                sava-events-2   \n...                                           ...   \n210746                                 comparellm   \n210814                                  radostllm   \n210823                     chat-gpt-prompt-master   \n210827                                  radostllm   \n210847                        free-humanizeaiwork   \n\n                                                  tagline  \\\n311                           Autonomous trucking startup   \n382     Official Chatbot of PBL India season 4 by morp...   \n912        Over 60+ free tools for businesses/freelancers   \n945     An app that tells you random s**t to do if you...   \n1231    All-in-one event management platform for event...   \n...                                                   ...   \n210746  Test outputs and performance of popular LLMs f...   \n210814         The sleek web ui for the Ollama LLM runner   \n210823  Access over 15,000 ready-made AI prompts for C...   \n210827         The sleek web ui for the Ollama LLM runner   \n210847       AI Text Humanizer | 100% Bypass AI Detection   \n\n                                              description  \\\n311     TuSimple - Founded in 2015, is an Artificial I...   \n382     Premier Badminton League Official Chatbot is l...   \n912     Free tools including SEO, keywords, webmaster,...   \n945     Boredaf is a chatbot can tell you a cool thing...   \n1231    Sava Events platform is all about reinventing ...   \n...                                                   ...   \n210746                Choose the best LLM for your prompt   \n210814  RadostLLM is a cutting-edge, web-based user in...   \n210823  Key Features: 15,000+ AI Prompts: Categorized ...   \n210827  RadostLLM is a cutting-edge, web-based user in...   \n210847  Transform AI-generated content from ChatGPT, B...   \n\n                                                      url  \\\n311     https://www.producthunt.com/posts/tusimple?utm...   \n382     https://www.producthunt.com/posts/premier-badm...   \n912     https://www.producthunt.com/posts/delaatbusine...   \n945     https://www.producthunt.com/posts/boredaf-2?ut...   \n1231    https://www.producthunt.com/posts/sava-events-...   \n...                                                   ...   \n210746  https://www.producthunt.com/posts/comparellm?u...   \n210814  https://www.producthunt.com/posts/radostllm?ut...   \n210823  https://www.producthunt.com/posts/chat-gpt-pro...   \n210827  https://www.producthunt.com/posts/radostllm?ut...   \n210847  https://www.producthunt.com/posts/free-humaniz...   \n\n                                                  website  votesCount  \\\n311     https://www.producthunt.com/r/ec1f90e72a82a1?u...          10   \n382     https://www.producthunt.com/r/a2a94a0a8a01d5?u...          11   \n912     https://www.producthunt.com/r/dc2336835970a3?u...           3   \n945     https://www.producthunt.com/r/bd2e776567e80b?u...         303   \n1231    https://www.producthunt.com/r/3011908bc8d7f9?u...           9   \n...                                                   ...         ...   \n210746  https://www.producthunt.com/r/WS2KF62OI3575L?u...           2   \n210814  https://www.producthunt.com/r/X5XSB4YBV6RLZD?u...           3   \n210823  https://www.producthunt.com/r/DN5GH4K2B3LRL7?u...           3   \n210827  https://www.producthunt.com/r/X5XSB4YBV6RLZD?u...           3   \n210847  https://www.producthunt.com/r/GY3UJC4YFXZ7FA?u...           3   \n\n        commentsCount             createdAt            featuredAt  \\\n311                 0  2019-01-07T11:38:45Z                  None   \n382                 4  2019-01-08T11:38:53Z                  None   \n912                 0  2019-01-16T21:59:24Z                  None   \n945                12  2019-01-17T13:49:53Z  2019-01-17T13:49:53Z   \n1231                1  2019-01-22T14:03:01Z                  None   \n...               ...                   ...                   ...   \n210746              1  2024-12-30T08:01:00Z                  None   \n210814              1  2024-12-31T08:01:00Z                  None   \n210823              1  2024-12-31T08:01:00Z                  None   \n210827              1  2024-12-31T08:01:00Z                  None   \n210847              1  2024-12-31T08:01:00Z                  None   \n\n                                                     text    ai  social  y  \\\n311     tusimpleautonomous trucking startuptusimple - ...  True   False  0   \n382     premier badminton league official chatbotoffic...  True   False  0   \n912     delaatbusinessover 60+ free tools for business...  True   False  0   \n945     boredafan app that tells you random s**t to do...  True   False  0   \n1231    sava eventsall-in-one event management platfor...  True   False  0   \n...                                                   ...   ...     ... ..   \n210746  comparellmtest outputs and performance of popu...  True   False  0   \n210814  radostllmthe sleek web ui for the ollama llm r...  True   False  0   \n210823  chat gpt prompt masteraccess over 15,000 ready...  True   False  0   \n210827  radostllmthe sleek web ui for the ollama llm r...  True   False  0   \n210847  【free】humanizeaiworkai text humanizer | 100% b...  True   False  0   \n\n                              dt  yhat  agreed  count_social  \n311    2019-01-07 11:38:45+00:00     0       1             0  \n382    2019-01-08 11:38:53+00:00     0       1             0  \n912    2019-01-16 21:59:24+00:00     0       1             0  \n945    2019-01-17 13:49:53+00:00     0       1             0  \n1231   2019-01-22 14:03:01+00:00     0       1             0  \n...                          ...   ...     ...           ...  \n210746 2024-12-30 08:01:00+00:00     0       1             0  \n210814 2024-12-31 08:01:00+00:00     0       1             0  \n210823 2024-12-31 08:01:00+00:00     0       1             0  \n210827 2024-12-31 08:01:00+00:00     0       1             0  \n210847 2024-12-31 08:01:00+00:00     0       1             0  \n\n[7111 rows x 19 columns]",
      "text/html": "<div>\n<style scoped>\n    .dataframe tbody tr th:only-of-type {\n        vertical-align: middle;\n    }\n\n    .dataframe tbody tr th {\n        vertical-align: top;\n    }\n\n    .dataframe thead th {\n        text-align: right;\n    }\n</style>\n<table border=\"1\" class=\"dataframe\">\n  <thead>\n    <tr style=\"text-align: right;\">\n      <th></th>\n      <th>id</th>\n      <th>name</th>\n      <th>slug</th>\n      <th>tagline</th>\n      <th>description</th>\n      <th>url</th>\n      <th>website</th>\n      <th>votesCount</th>\n      <th>commentsCount</th>\n      <th>createdAt</th>\n      <th>featuredAt</th>\n      <th>text</th>\n      <th>ai</th>\n      <th>social</th>\n      <th>y</th>\n      <th>dt</th>\n      <th>yhat</th>\n      <th>agreed</th>\n      <th>count_social</th>\n    </tr>\n  </thead>\n  <tbody>\n    <tr>\n      <th>311</th>\n      <td>142396</td>\n      <td>TuSimple</td>\n      <td>tusimple</td>\n      <td>Autonomous trucking startup</td>\n      <td>TuSimple - Founded in 2015, is an Artificial I...</td>\n      <td>https://www.producthunt.com/posts/tusimple?utm...</td>\n      <td>https://www.producthunt.com/r/ec1f90e72a82a1?u...</td>\n      <td>10</td>\n      <td>0</td>\n      <td>2019-01-07T11:38:45Z</td>\n      <td>None</td>\n      <td>tusimpleautonomous trucking startuptusimple - ...</td>\n      <td>True</td>\n      <td>False</td>\n      <td>0</td>\n      <td>2019-01-07 11:38:45+00:00</td>\n      <td>0</td>\n      <td>1</td>\n      <td>0</td>\n    </tr>\n    <tr>\n      <th>382</th>\n      <td>142474</td>\n      <td>Premier Badminton League Official Chatbot</td>\n      <td>premier-badminton-league-official-chatbot</td>\n      <td>Official Chatbot of PBL India season 4 by morp...</td>\n      <td>Premier Badminton League Official Chatbot is l...</td>\n      <td>https://www.producthunt.com/posts/premier-badm...</td>\n      <td>https://www.producthunt.com/r/a2a94a0a8a01d5?u...</td>\n      <td>11</td>\n      <td>4</td>\n      <td>2019-01-08T11:38:53Z</td>\n      <td>None</td>\n      <td>premier badminton league official chatbotoffic...</td>\n      <td>True</td>\n      <td>False</td>\n      <td>0</td>\n      <td>2019-01-08 11:38:53+00:00</td>\n      <td>0</td>\n      <td>1</td>\n      <td>0</td>\n    </tr>\n    <tr>\n      <th>912</th>\n      <td>143032</td>\n      <td>DeLaatBusiness</td>\n      <td>delaatbusiness</td>\n      <td>Over 60+ free tools for businesses/freelancers</td>\n      <td>Free tools including SEO, keywords, webmaster,...</td>\n      <td>https://www.producthunt.com/posts/delaatbusine...</td>\n      <td>https://www.producthunt.com/r/dc2336835970a3?u...</td>\n      <td>3</td>\n      <td>0</td>\n      <td>2019-01-16T21:59:24Z</td>\n      <td>None</td>\n      <td>delaatbusinessover 60+ free tools for business...</td>\n      <td>True</td>\n      <td>False</td>\n      <td>0</td>\n      <td>2019-01-16 21:59:24+00:00</td>\n      <td>0</td>\n      <td>1</td>\n      <td>0</td>\n    </tr>\n    <tr>\n      <th>945</th>\n      <td>143106</td>\n      <td>Boredaf</td>\n      <td>boredaf-2</td>\n      <td>An app that tells you random s**t to do if you...</td>\n      <td>Boredaf is a chatbot can tell you a cool thing...</td>\n      <td>https://www.producthunt.com/posts/boredaf-2?ut...</td>\n      <td>https://www.producthunt.com/r/bd2e776567e80b?u...</td>\n      <td>303</td>\n      <td>12</td>\n      <td>2019-01-17T13:49:53Z</td>\n      <td>2019-01-17T13:49:53Z</td>\n      <td>boredafan app that tells you random s**t to do...</td>\n      <td>True</td>\n      <td>False</td>\n      <td>0</td>\n      <td>2019-01-17 13:49:53+00:00</td>\n      <td>0</td>\n      <td>1</td>\n      <td>0</td>\n    </tr>\n    <tr>\n      <th>1231</th>\n      <td>143366</td>\n      <td>Sava Events</td>\n      <td>sava-events-2</td>\n      <td>All-in-one event management platform for event...</td>\n      <td>Sava Events platform is all about reinventing ...</td>\n      <td>https://www.producthunt.com/posts/sava-events-...</td>\n      <td>https://www.producthunt.com/r/3011908bc8d7f9?u...</td>\n      <td>9</td>\n      <td>1</td>\n      <td>2019-01-22T14:03:01Z</td>\n      <td>None</td>\n      <td>sava eventsall-in-one event management platfor...</td>\n      <td>True</td>\n      <td>False</td>\n      <td>0</td>\n      <td>2019-01-22 14:03:01+00:00</td>\n      <td>0</td>\n      <td>1</td>\n      <td>0</td>\n    </tr>\n    <tr>\n      <th>...</th>\n      <td>...</td>\n      <td>...</td>\n      <td>...</td>\n      <td>...</td>\n      <td>...</td>\n      <td>...</td>\n      <td>...</td>\n      <td>...</td>\n      <td>...</td>\n      <td>...</td>\n      <td>...</td>\n      <td>...</td>\n      <td>...</td>\n      <td>...</td>\n      <td>...</td>\n      <td>...</td>\n      <td>...</td>\n      <td>...</td>\n      <td>...</td>\n    </tr>\n    <tr>\n      <th>210746</th>\n      <td>744294</td>\n      <td>CompareLLM</td>\n      <td>comparellm</td>\n      <td>Test outputs and performance of popular LLMs f...</td>\n      <td>Choose the best LLM for your prompt</td>\n      <td>https://www.producthunt.com/posts/comparellm?u...</td>\n      <td>https://www.producthunt.com/r/WS2KF62OI3575L?u...</td>\n      <td>2</td>\n      <td>1</td>\n      <td>2024-12-30T08:01:00Z</td>\n      <td>None</td>\n      <td>comparellmtest outputs and performance of popu...</td>\n      <td>True</td>\n      <td>False</td>\n      <td>0</td>\n      <td>2024-12-30 08:01:00+00:00</td>\n      <td>0</td>\n      <td>1</td>\n      <td>0</td>\n    </tr>\n    <tr>\n      <th>210814</th>\n      <td>744634</td>\n      <td>RadostLLM</td>\n      <td>radostllm</td>\n      <td>The sleek web ui for the Ollama LLM runner</td>\n      <td>RadostLLM is a cutting-edge, web-based user in...</td>\n      <td>https://www.producthunt.com/posts/radostllm?ut...</td>\n      <td>https://www.producthunt.com/r/X5XSB4YBV6RLZD?u...</td>\n      <td>3</td>\n      <td>1</td>\n      <td>2024-12-31T08:01:00Z</td>\n      <td>None</td>\n      <td>radostllmthe sleek web ui for the ollama llm r...</td>\n      <td>True</td>\n      <td>False</td>\n      <td>0</td>\n      <td>2024-12-31 08:01:00+00:00</td>\n      <td>0</td>\n      <td>1</td>\n      <td>0</td>\n    </tr>\n    <tr>\n      <th>210823</th>\n      <td>740924</td>\n      <td>Chat GPT Prompt Master</td>\n      <td>chat-gpt-prompt-master</td>\n      <td>Access over 15,000 ready-made AI prompts for C...</td>\n      <td>Key Features: 15,000+ AI Prompts: Categorized ...</td>\n      <td>https://www.producthunt.com/posts/chat-gpt-pro...</td>\n      <td>https://www.producthunt.com/r/DN5GH4K2B3LRL7?u...</td>\n      <td>3</td>\n      <td>1</td>\n      <td>2024-12-31T08:01:00Z</td>\n      <td>None</td>\n      <td>chat gpt prompt masteraccess over 15,000 ready...</td>\n      <td>True</td>\n      <td>False</td>\n      <td>0</td>\n      <td>2024-12-31 08:01:00+00:00</td>\n      <td>0</td>\n      <td>1</td>\n      <td>0</td>\n    </tr>\n    <tr>\n      <th>210827</th>\n      <td>744634</td>\n      <td>RadostLLM</td>\n      <td>radostllm</td>\n      <td>The sleek web ui for the Ollama LLM runner</td>\n      <td>RadostLLM is a cutting-edge, web-based user in...</td>\n      <td>https://www.producthunt.com/posts/radostllm?ut...</td>\n      <td>https://www.producthunt.com/r/X5XSB4YBV6RLZD?u...</td>\n      <td>3</td>\n      <td>1</td>\n      <td>2024-12-31T08:01:00Z</td>\n      <td>None</td>\n      <td>radostllmthe sleek web ui for the ollama llm r...</td>\n      <td>True</td>\n      <td>False</td>\n      <td>0</td>\n      <td>2024-12-31 08:01:00+00:00</td>\n      <td>0</td>\n      <td>1</td>\n      <td>0</td>\n    </tr>\n    <tr>\n      <th>210847</th>\n      <td>744736</td>\n      <td>【Free】humanizeaiwork</td>\n      <td>free-humanizeaiwork</td>\n      <td>AI Text Humanizer | 100% Bypass AI Detection</td>\n      <td>Transform AI-generated content from ChatGPT, B...</td>\n      <td>https://www.producthunt.com/posts/free-humaniz...</td>\n      <td>https://www.producthunt.com/r/GY3UJC4YFXZ7FA?u...</td>\n      <td>3</td>\n      <td>1</td>\n      <td>2024-12-31T08:01:00Z</td>\n      <td>None</td>\n      <td>【free】humanizeaiworkai text humanizer | 100% b...</td>\n      <td>True</td>\n      <td>False</td>\n      <td>0</td>\n      <td>2024-12-31 08:01:00+00:00</td>\n      <td>0</td>\n      <td>1</td>\n      <td>0</td>\n    </tr>\n  </tbody>\n</table>\n<p>7111 rows × 19 columns</p>\n</div>"
     },
     "execution_count": 48,
     "metadata": {},
     "output_type": "execute_result"
    }
   ],
   "source": [
    "df"
   ]
  },
  {
   "cell_type": "code",
   "execution_count": 49,
   "id": "2299f5640c62725b",
   "metadata": {
    "collapsed": false,
    "ExecuteTime": {
     "end_time": "2025-05-25T10:56:24.861133Z",
     "start_time": "2025-05-25T10:56:24.826309Z"
    }
   },
   "outputs": [],
   "source": [
    "# time series plot \n",
    "\n",
    "df['dt'] = pd.to_datetime(df['createdAt'])"
   ]
  },
  {
   "cell_type": "code",
   "execution_count": 50,
   "id": "cd86052ac104ff",
   "metadata": {
    "collapsed": false,
    "ExecuteTime": {
     "end_time": "2025-05-25T10:56:26.122885Z",
     "start_time": "2025-05-25T10:56:26.072652Z"
    }
   },
   "outputs": [
    {
     "name": "stderr",
     "output_type": "stream",
     "text": [
      "/var/folders/kj/8p_kqzx533b8vldhm5sdjfc00000gn/T/ipykernel_10995/4103645729.py:26: UserWarning: Converting to PeriodArray/Index representation will drop timezone information.\n",
      "  'week': df.groupby(df[date_column].dt.to_period('W'))[target_column].sum(),\n",
      "/var/folders/kj/8p_kqzx533b8vldhm5sdjfc00000gn/T/ipykernel_10995/4103645729.py:27: UserWarning: Converting to PeriodArray/Index representation will drop timezone information.\n",
      "  'month': df.groupby(df[date_column].dt.to_period('M'))[target_column].sum(),\n",
      "/var/folders/kj/8p_kqzx533b8vldhm5sdjfc00000gn/T/ipykernel_10995/4103645729.py:28: UserWarning: Converting to PeriodArray/Index representation will drop timezone information.\n",
      "  'year': df.groupby(df[date_column].dt.to_period('Y'))[target_column].sum()\n"
     ]
    }
   ],
   "source": [
    "def calculate_proportion_by_aggregation(df, date_column, target_column, how='mean'):\n",
    "    \"\"\"\n",
    "    Calculate the proportion of the target column by different time aggregations.\n",
    "\n",
    "    Args:\n",
    "        df (pd.DataFrame): The input DataFrame.\n",
    "        date_column (str): The name of the datetime column.\n",
    "        target_column (str): The name of the target column (binary).\n",
    "\n",
    "    Returns:\n",
    "        dict: A dictionary containing proportions aggregated by day, week, month, and year.\n",
    "    \"\"\"\n",
    "    # Ensure the date column is in datetime format\n",
    "    df[date_column] = pd.to_datetime(df[date_column])\n",
    "\n",
    "    if how==\"mean\":\n",
    "        aggregations = {\n",
    "            'day': df.groupby(df[date_column].dt.date)[target_column].mean(),\n",
    "            'week': df.groupby(df[date_column].dt.to_period('W'))[target_column].mean(),\n",
    "            'month': df.groupby(df[date_column].dt.to_period('M'))[target_column].mean(),\n",
    "            'year': df.groupby(df[date_column].dt.to_period('Y'))[target_column].mean()\n",
    "        }\n",
    "    elif how==\"sum\":\n",
    "        aggregations = {\n",
    "            'day': df.groupby(df[date_column].dt.date)[target_column].sum(),\n",
    "            'week': df.groupby(df[date_column].dt.to_period('W'))[target_column].sum(),\n",
    "            'month': df.groupby(df[date_column].dt.to_period('M'))[target_column].sum(),\n",
    "            'year': df.groupby(df[date_column].dt.to_period('Y'))[target_column].sum()\n",
    "        }\n",
    "\n",
    "    return aggregations\n",
    "\n",
    "# Example usage\n",
    "proportions = calculate_proportion_by_aggregation(df, date_column='dt', target_column='yhat',how='sum')\n",
    "\n",
    "# Access proportions by day, week, month, or year\n",
    "byd = proportions['day']\n",
    "byw = proportions['week']\n",
    "bym = proportions['month']\n",
    "byy = proportions['year']"
   ]
  },
  {
   "cell_type": "code",
   "execution_count": 51,
   "id": "dcdbb3423f24cd06",
   "metadata": {
    "collapsed": false,
    "ExecuteTime": {
     "end_time": "2025-05-25T10:56:28.024192Z",
     "start_time": "2025-05-25T10:56:27.760294Z"
    }
   },
   "outputs": [
    {
     "data": {
      "text/plain": "<Axes: xlabel='dt'>"
     },
     "execution_count": 51,
     "metadata": {},
     "output_type": "execute_result"
    },
    {
     "data": {
      "text/plain": "<Figure size 640x480 with 1 Axes>",
      "image/png": "[encoded data removed]"
     },
     "metadata": {},
     "output_type": "display_data"
    }
   ],
   "source": [
    " byy.rolling(window=1, center=False).mean().plot(kind='bar')"
   ]
  },
  {
   "cell_type": "code",
   "execution_count": 52,
   "id": "4d494deaa41fa4af",
   "metadata": {
    "collapsed": false,
    "ExecuteTime": {
     "end_time": "2025-05-25T10:56:32.663013Z",
     "start_time": "2025-05-25T10:56:30.565344Z"
    }
   },
   "outputs": [
    {
     "data": {
      "text/plain": "<Axes: xlabel='dt'>"
     },
     "execution_count": 52,
     "metadata": {},
     "output_type": "execute_result"
    },
    {
     "data": {
      "text/plain": "<Figure size 1000x600 with 1 Axes>",
      "image/png": "[encoded data removed]"
     },
     "metadata": {},
     "output_type": "display_data"
    }
   ],
   "source": [
    "import matplotlib.pyplot as plt\n",
    "plt.figure(figsize=(10, 6))\n",
    "byd.rolling(window=100, center=False).sum().plot()"
   ]
  },
  {
   "cell_type": "code",
   "execution_count": 53,
   "id": "b991ba42d12efa10",
   "metadata": {
    "collapsed": false,
    "ExecuteTime": {
     "end_time": "2025-05-25T10:56:38.704834Z",
     "start_time": "2025-05-25T10:56:35.747018Z"
    }
   },
   "outputs": [],
   "source": [
    "def string_count_words(s, word_list):\n",
    "    \"\"\"\n",
    "    Regex-based version that counts occurrences of words/phrases in a string.\n",
    "    Returns the total count of all matches found.\n",
    "    \n",
    "    Args:\n",
    "        s (str): The string to search in\n",
    "        word_list (list): List of words/phrases to search for\n",
    "        \n",
    "    Returns:\n",
    "        int: Total count of all word matches found\n",
    "    \"\"\"\n",
    "    # Sort by length (longest first) to match longer phrases before shorter ones\n",
    "    sorted_terms = sorted(word_list, key=len, reverse=True)\n",
    "    \n",
    "    # Escape special regex characters and create pattern\n",
    "    escaped_terms = [re.escape(term) for term in sorted_terms]\n",
    "    pattern = r'\\b(' + '|'.join(escaped_terms) + r')\\b'\n",
    "    \n",
    "    # Find all matches and return count\n",
    "    matches = re.findall(pattern, s, re.IGNORECASE)\n",
    "    return len(matches)\n",
    "\n",
    "\n",
    "df['count_social'] = df['text'].apply(lambda x: string_count_words(x, social_words))"
   ]
  },
  {
   "cell_type": "code",
   "outputs": [
    {
     "name": "stdout",
     "output_type": "stream",
     "text": [
      "Title: Friend Zone GPT\n",
      "Description: Introducing Friend Zone GPT! Upload screenshots of your messages with your crush and find out if you're in the zone. Friend Zone GPT can.. 1. Evaluate if you're just his/her friend. 2. Provide logical reason to why. 3. Give you solution on how to improve!\n",
      "Tagline: Find out if you're just a friend or not\n",
      "Count: 5\n",
      "--------------------------------------------------\n",
      "Title: MyGirl—Your AI Girlfriend\n",
      "Description: Mygirl is an AI girlfriend chatbot that provides users with a unique and interactive virtual girlfriend experience. Users can engage in non-filtered conversations with Mygirl, who is programmed to respond like a real girlfriend would.\n",
      "Tagline: Not just an AI girlfriend chatbot, but your dream lover.\n",
      "Count: 4\n",
      "--------------------------------------------------\n",
      "Title: Boss Hub\n",
      "Description: Boss Hub Supports multiple forms, such as bar form, window form, full screen form. Boss Hub built-in 11+ Powerful AI, including GPT-4, ChatGPT, Microsoft Azure AI. Boss Hub built-in 7+ AI Add-ons & Agents & Copilot.\n",
      "Tagline: AI,GPT4,BOSS,HUB,AGENTS\n",
      "Count: 4\n",
      "--------------------------------------------------\n",
      "Title: Smart Girl: AI Girlfriend\n",
      "Description: 💘 AI Girlfriend: Experience the most captivating conversations and interactions with your own virtual girlfriend. Let her become your confidant, best friend, or romantic interest - the choice is yours.\n",
      "Tagline: AI girlfriend that feels - not just a chatbot\n",
      "Count: 4\n",
      "--------------------------------------------------\n",
      "Title: Employee Time Tracking for Modern Teams\n",
      "Description: Flowace hands-free Employee time tracking is your best shot at improving employee productivity by 31%. Our software leverages the power of artificial intelligence algorithms to automatically track and analyze work hours.\n",
      "Tagline: Employee time tracking software\n",
      "Count: 3\n",
      "--------------------------------------------------\n",
      "Title: Emily\n",
      "Description: Emily-AI Girlfriend app is a virtual girlfriend simulator that uses artificial intelligence technology to let you experience the feeling of being in love through chat and text communication with virtual girls.\n",
      "Tagline: A virtual girlfriend simulator\n",
      "Count: 3\n",
      "--------------------------------------------------\n",
      "Title: Golf Boost AI: Golf Swing Coach\n",
      "Description: Meet the world’s most advanced golf coach, Golf Boost AI. Our app is smarter than a golf coach by using artificial intelligence to detect body positions and swing angles to break down every aspect of your golf swing. Get your first month free today!\n",
      "Tagline: #1 At Home Golf Swing Analyzer\n",
      "Count: 3\n",
      "--------------------------------------------------\n",
      "Title: AI Coach Bud\n",
      "Description: Bud is an Artificial Intelligence Motivational Coach that will help you stay on top of your goals by texting you daily reminders, checking up on your progress, and providing actionable insights and advice. Try it now! Text \"Hi Bud\" to +1-620-308-2661\n",
      "Tagline: Your Personal Motivational Coach in Your Pocket.\n",
      "Count: 3\n",
      "--------------------------------------------------\n",
      "Title: AI-Powered Coaching by Kona\n",
      "Description: We're the Slack-based manager co-pilot and employee happiness platform. Add Kona to any Slack workspace to level-up your employee support strategy. Make check-ins fun, visualize organization health, and support struggling teammates in real-time with AI.\n",
      "Tagline: Using ChatGPT to support employees\n",
      "Count: 3\n",
      "--------------------------------------------------\n",
      "Title: Quick Scout\n",
      "Description: A virtual assistant for the employee that provides you with pre-built skills and chatbot AI & automation so you can build, deploy, and start improving the employee experience quicker & easier than before.....all at a lower cost.\n",
      "Tagline: Quick to build. Quick to deploy. Quick to value. Quick Scout\n",
      "Count: 2\n",
      "--------------------------------------------------\n",
      "Title: Fire.place\n",
      "Description: Fire.place is home to Zen, an AI Therapist Chatbot, for you to vent your feelings to.\n",
      "Tagline: Vent to an AI Therapist Chatbot\n",
      "Count: 2\n",
      "--------------------------------------------------\n",
      "Title: FiduciaryAI\n",
      "Description: This site hosts an AI chatbot that has had extra training on financial products and information. It is capable of giving general financial advice (not personal) and answering finance-related questions. It was trained by a licensed financial advisor on the CFP.\n",
      "Tagline: ChatGPT Trained by a Financial Advisor on CFP Materials\n",
      "Count: 2\n",
      "--------------------------------------------------\n",
      "Title: Foreign Friend\n",
      "Description: Our app, \"Foreign Friend\", is the perfect tool for anyone looking to learn a new language in a fun and engaging way. With our AI chatbot, you can have natural conversations in the language you are learning and receive natural responses like you would with a friend.\n",
      "Tagline: Learn languages with AI\n",
      "Count: 2\n",
      "--------------------------------------------------\n",
      "Title: Event Manager Pro for Zendesk\n",
      "Description: Thanks to Event Manager Pro, giving personalised customer service isn't complicated. It integrates into Zendesk, making it easy to log events to customer profiles in the Agent Workspace. With our templates you can make sure events contain the right info.\n",
      "Tagline: Give context by adding events to the customer timeline\n",
      "Count: 2\n",
      "--------------------------------------------------\n",
      "Title: J[ira]PT-3\n",
      "Description: Make GPT-3 write your features for you! As a Product Manager 👔, I want AI to write my Jira tickets 📝 so that I can focus on shipping quickly 🚀 https://www.jirapt3.com\n",
      "Tagline: The AI product manager that writes your Jira tickets\n",
      "Count: 2\n",
      "--------------------------------------------------\n",
      "Title: Talk to AI\n",
      "Description: SiriGPT is an apple shortcut that uses `OpenAI`’s ChatGPT API to provide a way for you to use AI hands free with your voice, right on your phone. You can configure it to be your friend, teacher, life coach, or anything else you want to.\n",
      "Tagline: Fastest way to use GPT3 hands-free, on your Apple device\n",
      "Count: 2\n",
      "--------------------------------------------------\n",
      "Title: Real Estate Manager WordPress Plugin\n",
      "Description: Real Estate Manager is a Responsive Property Listing WordPress Plugin for Full Feature Real Estate website and Portal. It has special integration features like Property Types, Advanced AJAX Search, Google Maps, Leaflet, Front-end Management etc...\n",
      "Tagline: Property Listings and Agent Management Solution\n",
      "Count: 2\n",
      "--------------------------------------------------\n",
      "Title: BFF Chatbot - Your personal confidante\n",
      "Description: BFF Chatbot is an AI-powered personal confidante and best friend, designed to offer you a wide range of services to help you navigate through life's challenges.\n",
      "Tagline: Need a new friend to talk to? Meet BFF Chatbot. Let's chat!\n",
      "Count: 2\n",
      "--------------------------------------------------\n",
      "Title: AI Money Manager - GPT Based Expense App\n",
      "Description: The easiest way to take control of your finances! With AI Money Manager you will Track expenses, set budgets, and get personalized insights—all powered by GPT. Your smart companion for stress-free money management, available on Android. Let AI help you! 💰📊\n",
      "Tagline: Manage your finances effortlessly with AI Money Manager\n",
      "Count: 2\n",
      "--------------------------------------------------\n",
      "Title: HR Assistant\n",
      "Description: HR Assistant GPT is an AI-powered platform designed to streamline HR processes, improve employee satisfaction, and enhance internal communication.\n",
      "Tagline: Streamline HR processes and employee satisfaction with AI\n",
      "Count: 2\n",
      "--------------------------------------------------\n",
      "Title: ConnectifAI\n",
      "Description: A Realtime Video Conferencing application with AI support. Do real-time video calls, share screens, access upcoming, and previous calls and recordings, use the AI chatbot to get instant answers, and many more features.\n",
      "Tagline: An AI-powered video conferencing platform\n",
      "Count: 0\n",
      "--------------------------------------------------\n",
      "Title: Stocker Ai\n",
      "Description: Lightning Fast AI Chatbot that Responds With Live Interactive Stock Charts, Financials, News, Screeners, and More.\n",
      "Tagline: Ai powered bot \n",
      "Count: 0\n",
      "--------------------------------------------------\n",
      "Title: LegittMate AI\n",
      "Description: Transform your sales with LegittMate AI Sales Chatbot! Automate customer interactions, capture leads from website traffic automatically, and engage visitors in real time. Boost growth, increase conversions, and deliver exceptional customer Satisfaction.\n",
      "Tagline: Your AI sales chatbot\n",
      "Count: 0\n",
      "--------------------------------------------------\n",
      "Title: Robots Do Marketing \n",
      "Description: The first AI marketing platform built for SaaS founders that plans, creates, and optimizes your campaigns 24/7. All the power of a growth marketing team, minus the agency fees and startup burnout.\n",
      "Tagline: World's 1st AI agent that runs your SaaS marketing\n",
      "Count: 0\n",
      "--------------------------------------------------\n",
      "Title: CryptoLens AI\n",
      "Description: Your AI Intelligent Companion—Cryptocurrency Market Analysis Assistant 🚀 ﻿ With advanced artificial intelligence technology, our plugin aims to provide data-driven market analysis based on historical data, empowering you to make informed trading decisions. ﻿\n",
      "Tagline: Cryptocurrency Analysis AI Tool\n",
      "Count: 0\n",
      "--------------------------------------------------\n",
      "Title: Sendwo\n",
      "Description: Create AI WhatsApp chatbot for free with SendWo. Scale your business sales using AI powered WhatsApp chatbot, remarketing & shared team inbox.\n",
      "Tagline: AI Powered WhatsApp Chatbot Software\n",
      "Count: 0\n",
      "--------------------------------------------------\n",
      "Title: Leaving Cert GPT\n",
      "Description: Ace your final exams with Leaving Cert GPT (LC GPT), your ultimate AI study companion. Access personalized AI subject chatbots, generate PDF summaries and much more!\n",
      "Tagline: Ace your exams with AI powered subject tutors\n",
      "Count: 0\n",
      "--------------------------------------------------\n",
      "Title: FineCodeX\n",
      "Description: We will fine-tune an LLM on your codebase to provide the highest quality code generation, achieving 4.2x the accuracy of Sonnet-3.5.\n",
      "Tagline: Fine-tuned code generation\n",
      "Count: 0\n",
      "--------------------------------------------------\n",
      "Title: Sneos: Multi-Chat AI Assistant\n",
      "Description: Sneos.com is a multi-chat AI platform that lets you write once and get responses from multiple AI models—starting with ChatGPT, Claude, and Gemini. Compare outputs side-by-side in real-time.\n",
      "Tagline: Sneos: Write Once, Get Insights from Multiple AI Models\n",
      "Count: 0\n",
      "--------------------------------------------------\n",
      "Title: De-Markdownify\n",
      "Description: Tired of dealing with Markdown-formatted text from tools like ChatGPT and other LLMs? De-Markdownify is a Chrome extension that instantly strips Markdown syntax, leaving you with clean, plain text ready for use in emails, documents, or anywhere you need.\n",
      "Tagline: De-Markdownify : Remove the fluff from your Markdown.\n",
      "Count: 0\n",
      "--------------------------------------------------\n",
      "Title: Chat XP\n",
      "Description: Elevate your service and user engagement with our platform's tools for creating a customized intelligent chatbot. Tailor it to your brand for better customer support and instant responses. Start building your chatbot today!\n",
      "Tagline: Create Custom Chatbot in 5 seconds with Us\n",
      "Count: 0\n",
      "--------------------------------------------------\n",
      "Title: Humata\n",
      "Description: Get 59% off Humata with the AppSumo Humata Lifetime Deal. AI-powered document analysis and summaries to revolutionize your workflow. Grab your deal today!\n",
      "Tagline: Humata is like ChatGPT for your files\n",
      "Count: 0\n",
      "--------------------------------------------------\n",
      "Title: LLMMM\n",
      "Description: LLM Marketing Monitor - Tracks how AI models perceive your brand. Monitor your presence across ChatGPT, Gemini, Meta AI & more. Get real-time insights on brand sentiment, competitive positioning & more. Essential for modern marketers navigating the AI era.\n",
      "Tagline: Monitor your brand across LLMs\n",
      "Count: 0\n",
      "--------------------------------------------------\n",
      "Title: PrepPal AI\n",
      "Description: Practice your job interview with an AI Agent. Have a practice interview with PrepPal AI, gain the confidence you need before your job interview.\n",
      "Tagline: Interview preparation AI agent\n",
      "Count: 0\n",
      "--------------------------------------------------\n",
      "Title: Vozzo AI \n",
      "Description: Vozzo AI is an advanced AI-powered voice communication platform designed to revolutionize how businesses interact with their customers. Leveraging cutting-edge artificial intelligence,\n",
      "Tagline: Enhancing Conversations with ai-powered voice solutions\n",
      "Count: 0\n",
      "--------------------------------------------------\n",
      "Title: CompareLLM\n",
      "Description: Choose the best LLM for your prompt\n",
      "Tagline: Test outputs and performance of popular LLMs for your prompt\n",
      "Count: 0\n",
      "--------------------------------------------------\n",
      "Title: RadostLLM\n",
      "Description: RadostLLM is a cutting-edge, web-based user interface designed specifically for the Ollama LLM runner. The platform empowers you to unlock full productivity and to streamline your workflow by leveraging the capabilities of Ollama as virtual assistant.\n",
      "Tagline: The sleek web ui for the Ollama LLM runner\n",
      "Count: 0\n",
      "--------------------------------------------------\n",
      "Title: Chat GPT Prompt Master\n",
      "Description: Key Features: 15,000+ AI Prompts: Categorized and ready to use. One-Click Access: No more searching for prompts; everything is at your fingertips. Free & No Signup Required: Get started instantly without creating an account.\n",
      "Tagline: Access over 15,000 ready-made AI prompts for ChatGPT\n",
      "Count: 0\n",
      "--------------------------------------------------\n",
      "Title: RadostLLM\n",
      "Description: RadostLLM is a cutting-edge, web-based user interface designed specifically for the Ollama LLM runner. The platform empowers you to unlock full productivity and to streamline your workflow by leveraging the capabilities of Ollama as virtual assistant.\n",
      "Tagline: The sleek web ui for the Ollama LLM runner\n",
      "Count: 0\n",
      "--------------------------------------------------\n",
      "Title: Premier Badminton League Official Chatbot\n",
      "Description: Premier Badminton League Official Chatbot is live on Facebook Messenger. Try out the chatbot today and stay updated with the latest scores, fixtures, follow teams, buy tickets and read stories about whats happening in PBL Season 4. Made by the powerful bot platform Morph.ai ( https://morph.ai )\n",
      "Tagline: Official Chatbot of PBL India season 4 by morph.ai\n",
      "Count: 0\n",
      "--------------------------------------------------\n"
     ]
    }
   ],
   "source": [
    "def inspect_top_bottom(tdf, n=20):\n",
    "    tdf = tdf.sort_values(by=['count_social'], ascending=False)\n",
    "    top = tdf.head(n)\n",
    "    bottom = tdf.tail(n)\n",
    "    \n",
    "    for t_tdf in [top, bottom]:\n",
    "        for i, row in t_tdf.iterrows():\n",
    "            print(f\"Title: {row['name']}\")\n",
    "            print(f\"Description: {row['description']}\")\n",
    "            print(f\"Tagline: {row['tagline']}\")\n",
    "            print(f\"Count: {row['count_social']}\")\n",
    "            print(\"-\" * 50)\n",
    "            \n",
    "            \n",
    "            \n",
    "inspect_top_bottom(df, n=20)\n",
    "        "
   ],
   "metadata": {
    "collapsed": false,
    "ExecuteTime": {
     "end_time": "2025-05-25T10:56:39.558148Z",
     "start_time": "2025-05-25T10:56:39.519602Z"
    }
   },
   "id": "313c74a1669752a",
   "execution_count": 54
  },
  {
   "cell_type": "code",
   "outputs": [],
   "source": [],
   "metadata": {
    "collapsed": false
   },
   "id": "bbc586d507cee44b"
  }
 ],
 "metadata": {
  "kernelspec": {
   "display_name": "Python 3 (ipykernel)",
   "language": "python",
   "name": "python3"
  },
  "language_info": {
   "codemirror_mode": {
    "name": "ipython",
    "version": 3
   },
   "file_extension": ".py",
   "mimetype": "text/x-python",
   "name": "python",
   "nbconvert_exporter": "python",
   "pygments_lexer": "ipython3",
   "version": "3.12.0"
  }
 },
 "nbformat": 4,
 "nbformat_minor": 5
}
