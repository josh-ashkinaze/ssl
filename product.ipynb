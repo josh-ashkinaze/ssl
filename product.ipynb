{
 "cells": [
  {
   "cell_type": "code",
   "execution_count": 1,
   "id": "initial_id",
   "metadata": {
    "ExecuteTime": {
     "end_time": "2025-05-24T00:07:18.271Z",
     "start_time": "2025-05-24T00:07:09.756808Z"
    }
   },
   "outputs": [],
   "source": [
    "import json \n",
    "import pandas as pd\n",
    "with open('producthunt_posts_2019-01-01_to_2025-01-01.json') as f:\n",
    "    data = json.load(f)\n",
    "    \n",
    "\n",
    "df = pd.DataFrame(data['posts'])"
   ]
  },
  {
   "cell_type": "markdown",
   "source": [
    "# Read in data"
   ],
   "metadata": {
    "collapsed": false
   },
   "id": "53dd4bf9995452b0"
  },
  {
   "cell_type": "code",
   "execution_count": 119,
   "id": "3c32b40f-5128-4709-8a6a-ea10208b6d27",
   "metadata": {
    "ExecuteTime": {
     "end_time": "2025-05-24T01:34:16.829465Z",
     "start_time": "2025-05-24T01:34:15.779610Z"
    }
   },
   "outputs": [
    {
     "name": "stdout",
     "output_type": "stream",
     "text": [
      "Index(['id', 'name', 'slug', 'tagline', 'description', 'url', 'website',\n",
      "       'votesCount', 'commentsCount', 'createdAt', 'featuredAt', 'text', 'ai',\n",
      "       'social', 'y', 'yhat', 'agreed', 'dt'],\n",
      "      dtype='object')\n"
     ]
    }
   ],
   "source": [
    "print(df.columns)\n",
    "# Index(['id', 'name', 'slug', 'tagline', 'description', 'url', 'website',\n",
    "#        'votesCount', 'commentsCount', 'createdAt', 'featuredAt'],\n",
    "#       dtype='object')\n",
    "\n",
    "import re\n",
    "def string_contains_word(s, word_list):\n",
    "    \"\"\"\n",
    "    Checks if any word from the word_list is present in the string s using regex.\n",
    "\n",
    "    Args:\n",
    "        s (str): The input string to search.\n",
    "        word_list (list): A list of words to search for in the string.\n",
    "\n",
    "    Returns:\n",
    "        bool: True if any word from the word_list is found in s, False otherwise.\n",
    "    \"\"\"\n",
    "    # Create a regex pattern to match any word in the word_list\n",
    "    pattern = r'\\b(' + '|'.join(map(re.escape, word_list)) + r')\\b'\n",
    "    return bool(re.search(pattern, s))    \n",
    "    \n",
    "ai_terms = [\"artificial intelligence\", \"large language model\", \"chatbot\", \"gpt\", \"a.i.\", \"chatgpt\"]\n",
    "social_words = [\n",
    "    \"therapist\", \"coach\", \"teacher\", \"scout\", \"advice\", \"support\",\n",
    "    \"mentor\", \"counselor\", \"guide\", \"trainer\", \"advisor\", \"consultant\",\n",
    "    \"helper\", \"facilitator\", \"mediator\", \"tutor\", \"educator\", \"leader\",\n",
    "    \"motivator\", \"instructor\", \"advocate\", \"listener\", \"companion\",\n",
    "    \"partner\", \"collaborator\", \"peer\", \"ally\", \"friend\", \"team\",\n",
    "    \"network\", \"community\", \"group\", \"interaction\", \"relationship\",\n",
    "    \"communicator\", \"organizer\", \"planner\", \"strategist\", \"negotiator\",\n",
    "    \"influencer\", \"volunteer\", \"coordinator\", \"supervisor\", \"manager\",\n",
    "    \"advisor\", \"role model\", \"inspiration\", \"caretaker\", \"mediator\",\n",
    "    \"psychologist\", \"psychiatrist\", \"social worker\", \"life coach\",\n",
    "    \"motivational speaker\", \"team player\", \"collaborator\", \"partner\",\n",
    "    \"engager\", \"connector\", \"facilitator\", \"leader\", \"mediator\",\n",
    "    \"advisor\", \"consultant\", \"helper\", \"listener\", \"supporter\"\n",
    "]\n",
    "df['text'] = df['name'] + df[\"tagline\"] + df[\"description\"]\n",
    "df = df.dropna(subset=['text'])\n",
    "df['text'] = df['text'].apply(lambda x: x.lower())\n",
    "\n",
    "df['ai'] = df['text'].apply(lambda x: string_contains_word(x, ai_terms))\n",
    "df['social'] = df['text'].apply(lambda x: string_contains_word(x, social_words))\n",
    "\n"
   ]
  },
  {
   "cell_type": "markdown",
   "source": [
    "# Filter dataframe and create col"
   ],
   "metadata": {
    "collapsed": false
   },
   "id": "8d8b942fc99d5baa"
  },
  {
   "cell_type": "code",
   "execution_count": 120,
   "id": "5b933f93-161d-4c30-a545-9c23811ecfba",
   "metadata": {
    "ExecuteTime": {
     "end_time": "2025-05-24T01:34:18.347549Z",
     "start_time": "2025-05-24T01:34:18.316267Z"
    }
   },
   "outputs": [],
   "source": [
    "df = df.query(\"ai == True\")\n",
    "df['y'] = df['social'].astype(int)\n",
    "df['dt'] = pd.to_datetime(df['createdAt'])\n",
    "df = df.loc[df['dt'] < '2025-01-01']"
   ]
  },
  {
   "cell_type": "code",
   "execution_count": 121,
   "id": "76a2d0d9-7ce7-44c2-97e2-e0da13a2f32a",
   "metadata": {
    "ExecuteTime": {
     "end_time": "2025-05-24T01:34:20.097475Z",
     "start_time": "2025-05-24T01:34:20.087492Z"
    }
   },
   "outputs": [
    {
     "data": {
      "text/plain": "np.float64(0.17997644287396938)"
     },
     "execution_count": 121,
     "metadata": {},
     "output_type": "execute_result"
    }
   ],
   "source": [
    "df['y'].mean()"
   ]
  },
  {
   "cell_type": "markdown",
   "source": [
    "# ML"
   ],
   "metadata": {
    "collapsed": false
   },
   "id": "a8ae2bb6ca522c2b"
  },
  {
   "cell_type": "code",
   "outputs": [
    {
     "name": "stdout",
     "output_type": "stream",
     "text": [
      "Best Parameters: {'model__C': 10, 'tfidf__ngram_range': (1, 1)}\n",
      "Classification Report:\n",
      "              precision    recall  f1-score   support\n",
      "\n",
      "           0       0.95      0.99      0.97       691\n",
      "           1       0.95      0.78      0.86       158\n",
      "\n",
      "    accuracy                           0.95       849\n",
      "   macro avg       0.95      0.88      0.91       849\n",
      "weighted avg       0.95      0.95      0.95       849\n",
      "Predictions: [1 1]\n",
      "Top Positive Words: ['support' 'team' 'companion' 'community' 'guide' 'interaction'\n",
      " 'inspiration' 'advice' 'partner' 'friend']\n",
      "Top Negative Words: ['emails' 'uses' 'gpt' 'artificial' 'twitter' 'instantly' 'free' 'custom'\n",
      " 'form' 'email']\n"
     ]
    }
   ],
   "source": [
    "from sklearn.pipeline import Pipeline\n",
    "from sklearn.feature_extraction.text import TfidfVectorizer\n",
    "from sklearn.linear_model import LogisticRegression\n",
    "from sklearn.model_selection import train_test_split, GridSearchCV\n",
    "from sklearn.metrics import classification_report\n",
    "import joblib\n",
    "import numpy as np\n",
    "\n",
    "# Define the pipeline\n",
    "pipeline = Pipeline([\n",
    "    ('tfidf', TfidfVectorizer(stop_words='english')),\n",
    "    ('model', LogisticRegression(max_iter=1000, random_state=42, class_weight='balanced'))\n",
    "])\n",
    "\n",
    "# Train-test split\n",
    "X_train, X_test, y_train, y_test = train_test_split(df['text'], df['y'], test_size=0.2, random_state=42)\n",
    "\n",
    "# Perform GridSearchCV\n",
    "param_grid = {\n",
    "    'tfidf__ngram_range': [(1, 1), (1, 2)],  # Unigrams and bigrams\n",
    "    'model__C': [0.01, 0.1, 1, 10]          # Regularization strength\n",
    "}\n",
    "grid_search = GridSearchCV(pipeline, param_grid, cv=5, scoring='f1', n_jobs=-1)\n",
    "grid_search.fit(X_train, y_train)\n",
    "\n",
    "# Best parameters and model\n",
    "print(\"Best Parameters:\", grid_search.best_params_)\n",
    "best_pipeline = grid_search.best_estimator_\n",
    "\n",
    "# Evaluate the best pipeline\n",
    "y_pred = best_pipeline.predict(X_test)\n",
    "print(\"Classification Report:\")\n",
    "print(classification_report(y_test, y_pred))\n",
    "\n",
    "# Save the best pipeline\n",
    "joblib.dump(best_pipeline, 'text_classification_pipeline.pkl')\n",
    "\n",
    "# Load the pipeline\n",
    "loaded_pipeline = joblib.load('text_classification_pipeline.pkl')\n",
    "\n",
    "# Predict on new data\n",
    "new_texts = [\n",
    "    \"AI-powered chatbot for customer support.\",\n",
    "    \"A mental health coach to help you achieve your goals.\"\n",
    "]\n",
    "predictions = loaded_pipeline.predict(new_texts)\n",
    "print(\"Predictions:\", predictions)\n",
    "\n",
    "# Extract and print the most important words\n",
    "vectorizer = loaded_pipeline.named_steps['tfidf']\n",
    "model = loaded_pipeline.named_steps['model']\n",
    "feature_names = np.array(vectorizer.get_feature_names_out())\n",
    "coefficients = model.coef_.flatten()\n",
    "\n",
    "# Get top 10 positive and negative words\n",
    "top_positive_indices = coefficients.argsort()[-10:][::-1]\n",
    "top_negative_indices = coefficients.argsort()[:10]\n",
    "\n",
    "print(\"Top Positive Words:\", feature_names[top_positive_indices])\n",
    "print(\"Top Negative Words:\", feature_names[top_negative_indices])"
   ],
   "metadata": {
    "collapsed": false,
    "ExecuteTime": {
     "end_time": "2025-05-24T01:34:30.669149Z",
     "start_time": "2025-05-24T01:34:21.854372Z"
    }
   },
   "id": "94651465a2cede42",
   "execution_count": 122
  },
  {
   "cell_type": "code",
   "outputs": [
    {
     "name": "stdout",
     "output_type": "stream",
     "text": [
      "Predictions: [1 1]\n"
     ]
    }
   ],
   "source": [
    "new_texts = [\n",
    "    \"AI assistant for meal prep\",\n",
    "    \"A mental health coach to help you achieve your goals.\"\n",
    "]\n",
    "predictions = loaded_pipeline.predict(new_texts)\n",
    "print(\"Predictions:\", predictions)"
   ],
   "metadata": {
    "collapsed": false,
    "ExecuteTime": {
     "end_time": "2025-05-24T01:34:49.697805Z",
     "start_time": "2025-05-24T01:34:49.692214Z"
    }
   },
   "id": "e2170b2e77f1d5a9",
   "execution_count": 124
  },
  {
   "cell_type": "code",
   "outputs": [],
   "source": [
    "df['yhat'] = loaded_pipeline.predict(df['text'].to_list())\n"
   ],
   "metadata": {
    "collapsed": false,
    "ExecuteTime": {
     "end_time": "2025-05-24T01:35:01.027867Z",
     "start_time": "2025-05-24T01:35:00.798666Z"
    }
   },
   "id": "e342bf2f22d1729b",
   "execution_count": 125
  },
  {
   "cell_type": "code",
   "outputs": [],
   "source": [
    "df['agreed'] = (df['y'] == df['yhat'])*1"
   ],
   "metadata": {
    "collapsed": false,
    "ExecuteTime": {
     "end_time": "2025-05-24T01:35:01.225920Z",
     "start_time": "2025-05-24T01:35:01.219690Z"
    }
   },
   "id": "44440a43bec62578",
   "execution_count": 126
  },
  {
   "cell_type": "code",
   "outputs": [
    {
     "data": {
      "text/plain": "np.float64(0.9903415783274441)"
     },
     "execution_count": 127,
     "metadata": {},
     "output_type": "execute_result"
    }
   ],
   "source": [
    "df['agreed'].mean()"
   ],
   "metadata": {
    "collapsed": false,
    "ExecuteTime": {
     "end_time": "2025-05-24T01:35:01.935695Z",
     "start_time": "2025-05-24T01:35:01.928141Z"
    }
   },
   "id": "cf6afe235351fe55",
   "execution_count": 127
  },
  {
   "cell_type": "code",
   "outputs": [
    {
     "data": {
      "text/plain": "            id                                       name  \\\n311     142396                                   TuSimple   \n382     142474  Premier Badminton League Official Chatbot   \n912     143032                             DeLaatBusiness   \n945     143106                                    Boredaf   \n1231    143366                                Sava Events   \n...        ...                                        ...   \n210485  739403                                     Sendwo   \n210491  740163                           Leaving Cert GPT   \n210580  742470                                    Chat XP   \n210731  744420                                  Vozzo AI    \n210823  740924                     Chat GPT Prompt Master   \n\n                                             slug  \\\n311                                      tusimple   \n382     premier-badminton-league-official-chatbot   \n912                                delaatbusiness   \n945                                     boredaf-2   \n1231                                sava-events-2   \n...                                           ...   \n210485                                     sendwo   \n210491                           leaving-cert-gpt   \n210580                                    chat-xp   \n210731                                   vozzo-ai   \n210823                     chat-gpt-prompt-master   \n\n                                                  tagline  \\\n311                           Autonomous trucking startup   \n382     Official Chatbot of PBL India season 4 by morp...   \n912        Over 60+ free tools for businesses/freelancers   \n945     An app that tells you random s**t to do if you...   \n1231    All-in-one event management platform for event...   \n...                                                   ...   \n210485               AI Powered WhatsApp Chatbot Software   \n210491      Ace your exams with AI powered subject tutors   \n210580         Create Custom Chatbot in 5 seconds with Us   \n210731  Enhancing Conversations with ai-powered voice ...   \n210823  Access over 15,000 ready-made AI prompts for C...   \n\n                                              description  \\\n311     TuSimple - Founded in 2015, is an Artificial I...   \n382     Premier Badminton League Official Chatbot is l...   \n912     Free tools including SEO, keywords, webmaster,...   \n945     Boredaf is a chatbot can tell you a cool thing...   \n1231    Sava Events platform is all about reinventing ...   \n...                                                   ...   \n210485  Create AI WhatsApp chatbot for free with SendW...   \n210491  Ace your final exams with Leaving Cert GPT (LC...   \n210580  Elevate your service and user engagement with ...   \n210731  Vozzo AI is an advanced AI-powered voice commu...   \n210823  Key Features: 15,000+ AI Prompts: Categorized ...   \n\n                                                      url  \\\n311     https://www.producthunt.com/posts/tusimple?utm...   \n382     https://www.producthunt.com/posts/premier-badm...   \n912     https://www.producthunt.com/posts/delaatbusine...   \n945     https://www.producthunt.com/posts/boredaf-2?ut...   \n1231    https://www.producthunt.com/posts/sava-events-...   \n...                                                   ...   \n210485  https://www.producthunt.com/posts/sendwo?utm_c...   \n210491  https://www.producthunt.com/posts/leaving-cert...   \n210580  https://www.producthunt.com/posts/chat-xp?utm_...   \n210731  https://www.producthunt.com/posts/vozzo-ai?utm...   \n210823  https://www.producthunt.com/posts/chat-gpt-pro...   \n\n                                                  website  votesCount  \\\n311     https://www.producthunt.com/r/ec1f90e72a82a1?u...          10   \n382     https://www.producthunt.com/r/a2a94a0a8a01d5?u...          11   \n912     https://www.producthunt.com/r/dc2336835970a3?u...           3   \n945     https://www.producthunt.com/r/bd2e776567e80b?u...         303   \n1231    https://www.producthunt.com/r/3011908bc8d7f9?u...           9   \n...                                                   ...         ...   \n210485  https://www.producthunt.com/r/RKXULLX2NRZWCW?u...           3   \n210491  https://www.producthunt.com/r/7GTL3YXT43SJWJ?u...           3   \n210580  https://www.producthunt.com/r/W3KY75U35PWDGR?u...           3   \n210731  https://www.producthunt.com/r/C4FALPCAY3P2NO?u...           2   \n210823  https://www.producthunt.com/r/DN5GH4K2B3LRL7?u...           3   \n\n        commentsCount             createdAt            featuredAt  \\\n311                 0  2019-01-07T11:38:45Z                  None   \n382                 4  2019-01-08T11:38:53Z                  None   \n912                 0  2019-01-16T21:59:24Z                  None   \n945                12  2019-01-17T13:49:53Z  2019-01-17T13:49:53Z   \n1231                1  2019-01-22T14:03:01Z                  None   \n...               ...                   ...                   ...   \n210485              1  2024-12-28T08:01:00Z                  None   \n210491              1  2024-12-28T08:01:00Z                  None   \n210580              1  2024-12-29T08:01:00Z                  None   \n210731              0  2024-12-30T08:01:00Z                  None   \n210823              1  2024-12-31T08:01:00Z                  None   \n\n                                                     text    ai  social  y  \\\n311     tusimpleautonomous trucking startuptusimple - ...  True   False  0   \n382     premier badminton league official chatbotoffic...  True   False  0   \n912     delaatbusinessover 60+ free tools for business...  True   False  0   \n945     boredafan app that tells you random s**t to do...  True   False  0   \n1231    sava eventsall-in-one event management platfor...  True   False  0   \n...                                                   ...   ...     ... ..   \n210485  sendwoai powered whatsapp chatbot softwarecrea...  True    True  1   \n210491  leaving cert gptace your exams with ai powered...  True    True  1   \n210580  chat xpcreate custom chatbot in 5 seconds with...  True    True  1   \n210731  vozzo ai enhancing conversations with ai-power...  True   False  0   \n210823  chat gpt prompt masteraccess over 15,000 ready...  True   False  0   \n\n        yhat  agreed                        dt  \n311        0       1 2019-01-07 11:38:45+00:00  \n382        0       1 2019-01-08 11:38:53+00:00  \n912        0       1 2019-01-16 21:59:24+00:00  \n945        0       1 2019-01-17 13:49:53+00:00  \n1231       0       1 2019-01-22 14:03:01+00:00  \n...      ...     ...                       ...  \n210485     1       1 2024-12-28 08:01:00+00:00  \n210491     1       1 2024-12-28 08:01:00+00:00  \n210580     1       1 2024-12-29 08:01:00+00:00  \n210731     0       1 2024-12-30 08:01:00+00:00  \n210823     0       1 2024-12-31 08:01:00+00:00  \n\n[4245 rows x 18 columns]",
      "text/html": "<div>\n<style scoped>\n    .dataframe tbody tr th:only-of-type {\n        vertical-align: middle;\n    }\n\n    .dataframe tbody tr th {\n        vertical-align: top;\n    }\n\n    .dataframe thead th {\n        text-align: right;\n    }\n</style>\n<table border=\"1\" class=\"dataframe\">\n  <thead>\n    <tr style=\"text-align: right;\">\n      <th></th>\n      <th>id</th>\n      <th>name</th>\n      <th>slug</th>\n      <th>tagline</th>\n      <th>description</th>\n      <th>url</th>\n      <th>website</th>\n      <th>votesCount</th>\n      <th>commentsCount</th>\n      <th>createdAt</th>\n      <th>featuredAt</th>\n      <th>text</th>\n      <th>ai</th>\n      <th>social</th>\n      <th>y</th>\n      <th>yhat</th>\n      <th>agreed</th>\n      <th>dt</th>\n    </tr>\n  </thead>\n  <tbody>\n    <tr>\n      <th>311</th>\n      <td>142396</td>\n      <td>TuSimple</td>\n      <td>tusimple</td>\n      <td>Autonomous trucking startup</td>\n      <td>TuSimple - Founded in 2015, is an Artificial I...</td>\n      <td>https://www.producthunt.com/posts/tusimple?utm...</td>\n      <td>https://www.producthunt.com/r/ec1f90e72a82a1?u...</td>\n      <td>10</td>\n      <td>0</td>\n      <td>2019-01-07T11:38:45Z</td>\n      <td>None</td>\n      <td>tusimpleautonomous trucking startuptusimple - ...</td>\n      <td>True</td>\n      <td>False</td>\n      <td>0</td>\n      <td>0</td>\n      <td>1</td>\n      <td>2019-01-07 11:38:45+00:00</td>\n    </tr>\n    <tr>\n      <th>382</th>\n      <td>142474</td>\n      <td>Premier Badminton League Official Chatbot</td>\n      <td>premier-badminton-league-official-chatbot</td>\n      <td>Official Chatbot of PBL India season 4 by morp...</td>\n      <td>Premier Badminton League Official Chatbot is l...</td>\n      <td>https://www.producthunt.com/posts/premier-badm...</td>\n      <td>https://www.producthunt.com/r/a2a94a0a8a01d5?u...</td>\n      <td>11</td>\n      <td>4</td>\n      <td>2019-01-08T11:38:53Z</td>\n      <td>None</td>\n      <td>premier badminton league official chatbotoffic...</td>\n      <td>True</td>\n      <td>False</td>\n      <td>0</td>\n      <td>0</td>\n      <td>1</td>\n      <td>2019-01-08 11:38:53+00:00</td>\n    </tr>\n    <tr>\n      <th>912</th>\n      <td>143032</td>\n      <td>DeLaatBusiness</td>\n      <td>delaatbusiness</td>\n      <td>Over 60+ free tools for businesses/freelancers</td>\n      <td>Free tools including SEO, keywords, webmaster,...</td>\n      <td>https://www.producthunt.com/posts/delaatbusine...</td>\n      <td>https://www.producthunt.com/r/dc2336835970a3?u...</td>\n      <td>3</td>\n      <td>0</td>\n      <td>2019-01-16T21:59:24Z</td>\n      <td>None</td>\n      <td>delaatbusinessover 60+ free tools for business...</td>\n      <td>True</td>\n      <td>False</td>\n      <td>0</td>\n      <td>0</td>\n      <td>1</td>\n      <td>2019-01-16 21:59:24+00:00</td>\n    </tr>\n    <tr>\n      <th>945</th>\n      <td>143106</td>\n      <td>Boredaf</td>\n      <td>boredaf-2</td>\n      <td>An app that tells you random s**t to do if you...</td>\n      <td>Boredaf is a chatbot can tell you a cool thing...</td>\n      <td>https://www.producthunt.com/posts/boredaf-2?ut...</td>\n      <td>https://www.producthunt.com/r/bd2e776567e80b?u...</td>\n      <td>303</td>\n      <td>12</td>\n      <td>2019-01-17T13:49:53Z</td>\n      <td>2019-01-17T13:49:53Z</td>\n      <td>boredafan app that tells you random s**t to do...</td>\n      <td>True</td>\n      <td>False</td>\n      <td>0</td>\n      <td>0</td>\n      <td>1</td>\n      <td>2019-01-17 13:49:53+00:00</td>\n    </tr>\n    <tr>\n      <th>1231</th>\n      <td>143366</td>\n      <td>Sava Events</td>\n      <td>sava-events-2</td>\n      <td>All-in-one event management platform for event...</td>\n      <td>Sava Events platform is all about reinventing ...</td>\n      <td>https://www.producthunt.com/posts/sava-events-...</td>\n      <td>https://www.producthunt.com/r/3011908bc8d7f9?u...</td>\n      <td>9</td>\n      <td>1</td>\n      <td>2019-01-22T14:03:01Z</td>\n      <td>None</td>\n      <td>sava eventsall-in-one event management platfor...</td>\n      <td>True</td>\n      <td>False</td>\n      <td>0</td>\n      <td>0</td>\n      <td>1</td>\n      <td>2019-01-22 14:03:01+00:00</td>\n    </tr>\n    <tr>\n      <th>...</th>\n      <td>...</td>\n      <td>...</td>\n      <td>...</td>\n      <td>...</td>\n      <td>...</td>\n      <td>...</td>\n      <td>...</td>\n      <td>...</td>\n      <td>...</td>\n      <td>...</td>\n      <td>...</td>\n      <td>...</td>\n      <td>...</td>\n      <td>...</td>\n      <td>...</td>\n      <td>...</td>\n      <td>...</td>\n      <td>...</td>\n    </tr>\n    <tr>\n      <th>210485</th>\n      <td>739403</td>\n      <td>Sendwo</td>\n      <td>sendwo</td>\n      <td>AI Powered WhatsApp Chatbot Software</td>\n      <td>Create AI WhatsApp chatbot for free with SendW...</td>\n      <td>https://www.producthunt.com/posts/sendwo?utm_c...</td>\n      <td>https://www.producthunt.com/r/RKXULLX2NRZWCW?u...</td>\n      <td>3</td>\n      <td>1</td>\n      <td>2024-12-28T08:01:00Z</td>\n      <td>None</td>\n      <td>sendwoai powered whatsapp chatbot softwarecrea...</td>\n      <td>True</td>\n      <td>True</td>\n      <td>1</td>\n      <td>1</td>\n      <td>1</td>\n      <td>2024-12-28 08:01:00+00:00</td>\n    </tr>\n    <tr>\n      <th>210491</th>\n      <td>740163</td>\n      <td>Leaving Cert GPT</td>\n      <td>leaving-cert-gpt</td>\n      <td>Ace your exams with AI powered subject tutors</td>\n      <td>Ace your final exams with Leaving Cert GPT (LC...</td>\n      <td>https://www.producthunt.com/posts/leaving-cert...</td>\n      <td>https://www.producthunt.com/r/7GTL3YXT43SJWJ?u...</td>\n      <td>3</td>\n      <td>1</td>\n      <td>2024-12-28T08:01:00Z</td>\n      <td>None</td>\n      <td>leaving cert gptace your exams with ai powered...</td>\n      <td>True</td>\n      <td>True</td>\n      <td>1</td>\n      <td>1</td>\n      <td>1</td>\n      <td>2024-12-28 08:01:00+00:00</td>\n    </tr>\n    <tr>\n      <th>210580</th>\n      <td>742470</td>\n      <td>Chat XP</td>\n      <td>chat-xp</td>\n      <td>Create Custom Chatbot in 5 seconds with Us</td>\n      <td>Elevate your service and user engagement with ...</td>\n      <td>https://www.producthunt.com/posts/chat-xp?utm_...</td>\n      <td>https://www.producthunt.com/r/W3KY75U35PWDGR?u...</td>\n      <td>3</td>\n      <td>1</td>\n      <td>2024-12-29T08:01:00Z</td>\n      <td>None</td>\n      <td>chat xpcreate custom chatbot in 5 seconds with...</td>\n      <td>True</td>\n      <td>True</td>\n      <td>1</td>\n      <td>1</td>\n      <td>1</td>\n      <td>2024-12-29 08:01:00+00:00</td>\n    </tr>\n    <tr>\n      <th>210731</th>\n      <td>744420</td>\n      <td>Vozzo AI</td>\n      <td>vozzo-ai</td>\n      <td>Enhancing Conversations with ai-powered voice ...</td>\n      <td>Vozzo AI is an advanced AI-powered voice commu...</td>\n      <td>https://www.producthunt.com/posts/vozzo-ai?utm...</td>\n      <td>https://www.producthunt.com/r/C4FALPCAY3P2NO?u...</td>\n      <td>2</td>\n      <td>0</td>\n      <td>2024-12-30T08:01:00Z</td>\n      <td>None</td>\n      <td>vozzo ai enhancing conversations with ai-power...</td>\n      <td>True</td>\n      <td>False</td>\n      <td>0</td>\n      <td>0</td>\n      <td>1</td>\n      <td>2024-12-30 08:01:00+00:00</td>\n    </tr>\n    <tr>\n      <th>210823</th>\n      <td>740924</td>\n      <td>Chat GPT Prompt Master</td>\n      <td>chat-gpt-prompt-master</td>\n      <td>Access over 15,000 ready-made AI prompts for C...</td>\n      <td>Key Features: 15,000+ AI Prompts: Categorized ...</td>\n      <td>https://www.producthunt.com/posts/chat-gpt-pro...</td>\n      <td>https://www.producthunt.com/r/DN5GH4K2B3LRL7?u...</td>\n      <td>3</td>\n      <td>1</td>\n      <td>2024-12-31T08:01:00Z</td>\n      <td>None</td>\n      <td>chat gpt prompt masteraccess over 15,000 ready...</td>\n      <td>True</td>\n      <td>False</td>\n      <td>0</td>\n      <td>0</td>\n      <td>1</td>\n      <td>2024-12-31 08:01:00+00:00</td>\n    </tr>\n  </tbody>\n</table>\n<p>4245 rows × 18 columns</p>\n</div>"
     },
     "execution_count": 128,
     "metadata": {},
     "output_type": "execute_result"
    }
   ],
   "source": [
    "df"
   ],
   "metadata": {
    "collapsed": false,
    "ExecuteTime": {
     "end_time": "2025-05-24T01:35:03.059575Z",
     "start_time": "2025-05-24T01:35:03.030843Z"
    }
   },
   "id": "e0a97ba83d629e43",
   "execution_count": 128
  },
  {
   "cell_type": "code",
   "outputs": [],
   "source": [
    "# time series plot \n",
    "\n",
    "df['dt'] = pd.to_datetime(df['createdAt'])"
   ],
   "metadata": {
    "collapsed": false,
    "ExecuteTime": {
     "end_time": "2025-05-24T01:35:04.086959Z",
     "start_time": "2025-05-24T01:35:04.070106Z"
    }
   },
   "id": "2299f5640c62725b",
   "execution_count": 129
  },
  {
   "cell_type": "code",
   "outputs": [
    {
     "name": "stderr",
     "output_type": "stream",
     "text": [
      "/var/folders/kj/8p_kqzx533b8vldhm5sdjfc00000gn/T/ipykernel_54605/1420517030.py:19: UserWarning: Converting to PeriodArray/Index representation will drop timezone information.\n",
      "  'week': df.groupby(df[date_column].dt.to_period('W'))[target_column].mean(),\n",
      "/var/folders/kj/8p_kqzx533b8vldhm5sdjfc00000gn/T/ipykernel_54605/1420517030.py:20: UserWarning: Converting to PeriodArray/Index representation will drop timezone information.\n",
      "  'month': df.groupby(df[date_column].dt.to_period('M'))[target_column].mean(),\n",
      "/var/folders/kj/8p_kqzx533b8vldhm5sdjfc00000gn/T/ipykernel_54605/1420517030.py:21: UserWarning: Converting to PeriodArray/Index representation will drop timezone information.\n",
      "  'year': df.groupby(df[date_column].dt.to_period('Y'))[target_column].mean()\n"
     ]
    }
   ],
   "source": [
    "def calculate_proportion_by_aggregation(df, date_column, target_column, how='mean'):\n",
    "    \"\"\"\n",
    "    Calculate the proportion of the target column by different time aggregations.\n",
    "\n",
    "    Args:\n",
    "        df (pd.DataFrame): The input DataFrame.\n",
    "        date_column (str): The name of the datetime column.\n",
    "        target_column (str): The name of the target column (binary).\n",
    "\n",
    "    Returns:\n",
    "        dict: A dictionary containing proportions aggregated by day, week, month, and year.\n",
    "    \"\"\"\n",
    "    # Ensure the date column is in datetime format\n",
    "    df[date_column] = pd.to_datetime(df[date_column])\n",
    "\n",
    "    if how==\"mean\":\n",
    "        aggregations = {\n",
    "            'day': df.groupby(df[date_column].dt.date)[target_column].mean(),\n",
    "            'week': df.groupby(df[date_column].dt.to_period('W'))[target_column].mean(),\n",
    "            'month': df.groupby(df[date_column].dt.to_period('M'))[target_column].mean(),\n",
    "            'year': df.groupby(df[date_column].dt.to_period('Y'))[target_column].mean()\n",
    "        }\n",
    "    elif how==\"sum\":\n",
    "        aggregations = {\n",
    "            'day': df.groupby(df[date_column].dt.date)[target_column].sum(),\n",
    "            'week': df.groupby(df[date_column].dt.to_period('W'))[target_column].sum(),\n",
    "            'month': df.groupby(df[date_column].dt.to_period('M'))[target_column].sum(),\n",
    "            'year': df.groupby(df[date_column].dt.to_period('Y'))[target_column].sum()\n",
    "        }\n",
    "\n",
    "    return aggregations\n",
    "\n",
    "# Example usage\n",
    "proportions = calculate_proportion_by_aggregation(df, date_column='dt', target_column='y',how='mean')\n",
    "\n",
    "# Access proportions by day, week, month, or year\n",
    "byd = proportions['day']\n",
    "byw = proportions['week']\n",
    "bym = proportions['month']\n",
    "byy = proportions['year']"
   ],
   "metadata": {
    "collapsed": false,
    "ExecuteTime": {
     "end_time": "2025-05-24T01:35:04.747339Z",
     "start_time": "2025-05-24T01:35:04.687155Z"
    }
   },
   "id": "cd86052ac104ff",
   "execution_count": 130
  },
  {
   "cell_type": "code",
   "outputs": [
    {
     "data": {
      "text/plain": "<Axes: xlabel='dt'>"
     },
     "execution_count": 131,
     "metadata": {},
     "output_type": "execute_result"
    },
    {
     "data": {
      "text/plain": "<Figure size 640x480 with 1 Axes>",
      "image/png": "[encoded data removed]"
     },
     "metadata": {},
     "output_type": "display_data"
    }
   ],
   "source": [
    " byy.rolling(window=1, center=False).mean().plot()"
   ],
   "metadata": {
    "collapsed": false,
    "ExecuteTime": {
     "end_time": "2025-05-24T01:35:06.693841Z",
     "start_time": "2025-05-24T01:35:06.450067Z"
    }
   },
   "id": "dcdbb3423f24cd06",
   "execution_count": 131
  },
  {
   "cell_type": "code",
   "outputs": [
    {
     "data": {
      "text/plain": "<Axes: xlabel='dt'>"
     },
     "execution_count": 118,
     "metadata": {},
     "output_type": "execute_result"
    },
    {
     "data": {
      "text/plain": "<Figure size 640x480 with 1 Axes>",
      "image/png": "[encoded data removed]"
     },
     "metadata": {},
     "output_type": "display_data"
    }
   ],
   "source": [
    "byy.rolling(window=1, center=False).sum().plot()"
   ],
   "metadata": {
    "collapsed": false,
    "ExecuteTime": {
     "end_time": "2025-05-24T01:32:35.500760Z",
     "start_time": "2025-05-24T01:32:35.343644Z"
    }
   },
   "id": "4d494deaa41fa4af",
   "execution_count": 118
  },
  {
   "cell_type": "code",
   "outputs": [],
   "source": [],
   "metadata": {
    "collapsed": false
   },
   "id": "b991ba42d12efa10"
  }
 ],
 "metadata": {
  "kernelspec": {
   "display_name": "Python 3 (ipykernel)",
   "language": "python",
   "name": "python3"
  },
  "language_info": {
   "codemirror_mode": {
    "name": "ipython",
    "version": 3
   },
   "file_extension": ".py",
   "mimetype": "text/x-python",
   "name": "python",
   "nbconvert_exporter": "python",
   "pygments_lexer": "ipython3",
   "version": "3.12.0"
  }
 },
 "nbformat": 4,
 "nbformat_minor": 5
}
