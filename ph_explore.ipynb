{
 "cells": [
  {
   "cell_type": "code",
   "execution_count": 1,
   "id": "initial_id",
   "metadata": {
    "collapsed": true,
    "ExecuteTime": {
     "end_time": "2025-05-24T00:07:13.799404Z",
     "start_time": "2025-05-24T00:07:01.601767Z"
    }
   },
   "outputs": [],
   "source": [
    "import json \n",
    "import pandas as pd\n",
    "with open('producthunt_posts_2019-01-01_to_2025-01-01.json') as f:\n",
    "    data = json.load(f)\n",
    "    \n",
    "    \n",
    "df = pd.DataFrame(data['posts'])"
   ]
  },
  {
   "cell_type": "code",
   "outputs": [
    {
     "ename": "NameError",
     "evalue": "name 'df' is not defined",
     "output_type": "error",
     "traceback": [
      "\u001B[31m---------------------------------------------------------------------------\u001B[39m",
      "\u001B[31mNameError\u001B[39m                                 Traceback (most recent call last)",
      "\u001B[36mCell\u001B[39m\u001B[36m \u001B[39m\u001B[32mIn[1]\u001B[39m\u001B[32m, line 1\u001B[39m\n\u001B[32m----> \u001B[39m\u001B[32m1\u001B[39m \u001B[43mdf\u001B[49m\n",
      "\u001B[31mNameError\u001B[39m: name 'df' is not defined"
     ]
    }
   ],
   "source": [
    "df"
   ],
   "metadata": {
    "collapsed": false,
    "ExecuteTime": {
     "end_time": "2025-05-23T22:26:32.634858Z",
     "start_time": "2025-05-23T22:26:32.323806Z"
    }
   },
   "id": "ceeb67056cde5f72",
   "execution_count": 1
  },
  {
   "cell_type": "code",
   "outputs": [
    {
     "name": "stdout",
     "output_type": "stream",
     "text": [
      "'AI-augmented therapist' -> Perplexity: 326.57\n",
      "'AI-generated therapist' -> Perplexity: 10591.97\n",
      "'therapist near me' -> Perplexity: 10267.96\n"
     ]
    }
   ],
   "source": [
    "import torch\n",
    "from transformers import AutoTokenizer, AutoModelForCausalLM\n",
    "import math\n",
    "\n",
    "def get_perplexity(text, model_name=\"distilgpt2\"):\n",
    "    \"\"\"\n",
    "    Calculate perplexity of text using a small local LLM.\n",
    "    \n",
    "    Args:\n",
    "        text (str): Input text to calculate perplexity for\n",
    "        model_name (str): HuggingFace model name (default: distilgpt2)\n",
    "    \n",
    "    Returns:\n",
    "        float: Perplexity score\n",
    "    \"\"\"\n",
    "    # Load model and tokenizer\n",
    "    tokenizer = AutoTokenizer.from_pretrained(model_name)\n",
    "    model = AutoModelForCausalLM.from_pretrained(model_name)\n",
    "    \n",
    "    # Add padding token if missing\n",
    "    if tokenizer.pad_token is None:\n",
    "        tokenizer.pad_token = tokenizer.eos_token\n",
    "    \n",
    "    # Tokenize input\n",
    "    inputs = tokenizer(text, return_tensors=\"pt\")\n",
    "    \n",
    "    # Calculate loss\n",
    "    with torch.no_grad():\n",
    "        outputs = model(**inputs, labels=inputs[\"input_ids\"])\n",
    "        loss = outputs.loss\n",
    "    \n",
    "    # Convert loss to perplexity\n",
    "    perplexity = math.exp(loss.item())\n",
    "    \n",
    "    return perplexity\n",
    "\n",
    "# Example usage\n",
    "if __name__ == \"__main__\":\n",
    "    phrases = [\n",
    "        \"AI-augmented therapist\",\n",
    "        \"AI-generated therapist\",\n",
    "        \"therapist near me\"\n",
    "    ]\n",
    "    \n",
    "    for phrase in phrases:\n",
    "        ppl = get_perplexity(phrase)\n",
    "        print(f\"'{phrase}' -> Perplexity: {ppl:.2f}\")"
   ],
   "metadata": {
    "collapsed": false,
    "ExecuteTime": {
     "end_time": "2025-06-02T20:20:44.931654Z",
     "start_time": "2025-06-02T20:20:39.452734Z"
    }
   },
   "id": "55719e6342ba855",
   "execution_count": 4
  },
  {
   "cell_type": "code",
   "outputs": [],
   "source": [],
   "metadata": {
    "collapsed": false
   },
   "id": "f81ad8b42360564a"
  }
 ],
 "metadata": {
  "kernelspec": {
   "display_name": "Python 3",
   "language": "python",
   "name": "python3"
  },
  "language_info": {
   "codemirror_mode": {
    "name": "ipython",
    "version": 2
   },
   "file_extension": ".py",
   "mimetype": "text/x-python",
   "name": "python",
   "nbconvert_exporter": "python",
   "pygments_lexer": "ipython2",
   "version": "2.7.6"
  }
 },
 "nbformat": 4,
 "nbformat_minor": 5
}
